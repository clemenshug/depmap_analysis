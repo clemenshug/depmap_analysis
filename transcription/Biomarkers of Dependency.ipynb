{
 "cells": [
  {
   "cell_type": "markdown",
   "metadata": {},
   "source": [
    "# Overview and Notes"
   ]
  },
  {
   "cell_type": "markdown",
   "metadata": {},
   "source": [
    "What are interesting scenarios for exploring correlations?\n",
    "* Expression-dependency correlations for dependency genes that are druggable. For these, the expression correlates are informative for selection of sensitive cell lines/patients. In addition, causally related expression correlates are suggestive of possible resistance mechanisms or secondary targets for a drug combination.\n",
    "* Dependency-dependency correlations for undruggable genes. For these, the correlates are suggestive of substitute targets, or combinations of targets. However, as combinations are considered the causal interpretation becomes more important.\n",
    "* Expression-expression correlations. In this case one idea would be to explore the strength and sign of relationships from the data vs. assertions from curated databases/literature, particularly from perturbational experiments.\n",
    "* Co-expression patterns. Another possibility is to discover patterns of relationships between genes, e.g. that expression of ubiquitin ligases is correlated with the expression of their targets.\n",
    "\n",
    "Another interesting direction would be to use the information in the INDRA database to discover patterns of mechanistic relationships that predict correlations between dependencies of two genes, or between expression of a gene and dependency of another gene. The simplest possible application of this would be to look at pairwise relationships between two genes (could even extract from SIF), and test to see which types of relationships, and signs of relationships predicted, and amount of evidence predicted a) the sign of a correlation and b) the strength of the correlation.\n",
    "\n",
    "If the matrix is made complete, i.e., if entries are included for having no known relationship, we may find that having no relationship is not predictive of a lack of a correlation.\n",
    "\n",
    "Similarly, there will be many mechanistic relationships that yield detectable correlations.\n",
    "\n",
    "One hypothesis that could be tested is whether downstream siblings were more likely to have large correlations to each other than with their ancestors, highlighting that correlations rarely pick up causal relations in this type of data.\n",
    "\n",
    "Could do this with graph convolutional nets?\n",
    "\n",
    "Another application would be to use the data to refine vague relationships extracted from text, or to address issues with assembly, a la distant supervision.\n",
    "\n",
    "Another direction would be to cluster the correlation graph to find likely intermediates.\n",
    "\n",
    "Or, to use the redundancy of certain gene families to explain why certain correlations do *not* show up, i.e., the gene knockout has no effect because it has a redundant copy."
   ]
  },
  {
   "cell_type": "markdown",
   "metadata": {},
   "source": [
    "# Preliminaries"
   ]
  },
  {
   "cell_type": "code",
   "execution_count": 1,
   "metadata": {},
   "outputs": [],
   "source": [
    "import pickle\n",
    "from collections import defaultdict, Counter\n",
    "import numpy as np\n",
    "import pandas as pd\n",
    "from scipy import stats\n",
    "from matplotlib import pyplot as plt\n",
    "from indra.databases import hgnc_client\n",
    "from indra.tools import assemble_corpus as ac"
   ]
  },
  {
   "cell_type": "markdown",
   "metadata": {},
   "source": [
    "## Load transcript and dependency data and compute correlations\n",
    "\n",
    "\n",
    "Key variables/functions:\n",
    "* `ccle_df`. CCLE expression data, DataFrame.\n",
    "* `crispr_df`. DepMap CRISPR gene effect (dependency) data, DataFrame.\n",
    "* `crispr_corr`\n",
    "* `crispr_z`\n",
    "* `rnai_df`. DepMap combined RNAi data, DataFrame.\n",
    "* `rna_corr`\n",
    "* `rnai_z`\n",
    "* `dep_z`\n",
    "* `dep_df`. CRISPR and RNAi data combined as averaged z-scores, DataFrame.\n",
    "* `dep_corr`. Correlation matrix between dep-dep, dep-expr, and expr-expr (though expr-expr correlations are only defined in this matrix for the genes also included in the dependency data)."
   ]
  },
  {
   "cell_type": "markdown",
   "metadata": {},
   "source": [
    "### Cell line metadata\n",
    "\n",
    "Load the cell line metadata which includes mappings between cell line identifiers used by different datasets."
   ]
  },
  {
   "cell_type": "code",
   "execution_count": 2,
   "metadata": {},
   "outputs": [],
   "source": [
    "cell_line_df = pd.read_csv('data/DepMap-2019q1-celllines_v2.csv')"
   ]
  },
  {
   "cell_type": "code",
   "execution_count": 3,
   "metadata": {},
   "outputs": [
    {
     "data": {
      "text/html": [
       "<div>\n",
       "<style scoped>\n",
       "    .dataframe tbody tr th:only-of-type {\n",
       "        vertical-align: middle;\n",
       "    }\n",
       "\n",
       "    .dataframe tbody tr th {\n",
       "        vertical-align: top;\n",
       "    }\n",
       "\n",
       "    .dataframe thead th {\n",
       "        text-align: right;\n",
       "    }\n",
       "</style>\n",
       "<table border=\"1\" class=\"dataframe\">\n",
       "  <thead>\n",
       "    <tr style=\"text-align: right;\">\n",
       "      <th></th>\n",
       "      <th>DepMap_ID</th>\n",
       "    </tr>\n",
       "    <tr>\n",
       "      <th>CCLE_Name</th>\n",
       "      <th></th>\n",
       "    </tr>\n",
       "  </thead>\n",
       "  <tbody>\n",
       "    <tr>\n",
       "      <th>NIHOVCAR3_OVARY</th>\n",
       "      <td>ACH-000001</td>\n",
       "    </tr>\n",
       "    <tr>\n",
       "      <th>HL60_HAEMATOPOIETIC_AND_LYMPHOID_TISSUE</th>\n",
       "      <td>ACH-000002</td>\n",
       "    </tr>\n",
       "    <tr>\n",
       "      <th>CACO2_LARGE_INTESTINE</th>\n",
       "      <td>ACH-000003</td>\n",
       "    </tr>\n",
       "    <tr>\n",
       "      <th>HEL_HAEMATOPOIETIC_AND_LYMPHOID_TISSUE</th>\n",
       "      <td>ACH-000004</td>\n",
       "    </tr>\n",
       "    <tr>\n",
       "      <th>HEL9217_HAEMATOPOIETIC_AND_LYMPHOID_TISSUE</th>\n",
       "      <td>ACH-000005</td>\n",
       "    </tr>\n",
       "  </tbody>\n",
       "</table>\n",
       "</div>"
      ],
      "text/plain": [
       "                                             DepMap_ID\n",
       "CCLE_Name                                             \n",
       "NIHOVCAR3_OVARY                             ACH-000001\n",
       "HL60_HAEMATOPOIETIC_AND_LYMPHOID_TISSUE     ACH-000002\n",
       "CACO2_LARGE_INTESTINE                       ACH-000003\n",
       "HEL_HAEMATOPOIETIC_AND_LYMPHOID_TISSUE      ACH-000004\n",
       "HEL9217_HAEMATOPOIETIC_AND_LYMPHOID_TISSUE  ACH-000005"
      ]
     },
     "execution_count": 3,
     "metadata": {},
     "output_type": "execute_result"
    }
   ],
   "source": [
    "cell_line_map = cell_line_df[['DepMap_ID', 'CCLE_Name']]\n",
    "cell_line_map.set_index('CCLE_Name', inplace=True)\n",
    "cell_line_map.head()"
   ]
  },
  {
   "cell_type": "markdown",
   "metadata": {},
   "source": [
    "### RNAi data\n",
    "\n",
    "Load combined RNAi data, normalize column names, map to DepMap cell line IDs, and drop duplicate columns."
   ]
  },
  {
   "cell_type": "code",
   "execution_count": 4,
   "metadata": {},
   "outputs": [
    {
     "name": "stdout",
     "output_type": "stream",
     "text": [
      "CPU times: user 2.25 s, sys: 137 ms, total: 2.39 s\n",
      "Wall time: 2.39 s\n"
     ]
    }
   ],
   "source": [
    "%time rnai_df = pd.read_csv('data/D2_combined_gene_dep_scores.csv', index_col=0)\n",
    "rnai_df = rnai_df.transpose()\n",
    "gene_cols = ['%s' % col.split(' ')[0] for col in rnai_df.columns]\n",
    "rnai_df.columns = gene_cols\n",
    "rnai_df = rnai_df.join(cell_line_map)\n",
    "rnai_df = rnai_df.set_index('DepMap_ID')\n",
    "# Drop duplicate columns\n",
    "rnai_df = rnai_df.loc[:,~rnai_df.columns.duplicated()]"
   ]
  },
  {
   "cell_type": "code",
   "execution_count": 5,
   "metadata": {
    "scrolled": true
   },
   "outputs": [
    {
     "data": {
      "text/html": [
       "<div>\n",
       "<style scoped>\n",
       "    .dataframe tbody tr th:only-of-type {\n",
       "        vertical-align: middle;\n",
       "    }\n",
       "\n",
       "    .dataframe tbody tr th {\n",
       "        vertical-align: top;\n",
       "    }\n",
       "\n",
       "    .dataframe thead th {\n",
       "        text-align: right;\n",
       "    }\n",
       "</style>\n",
       "<table border=\"1\" class=\"dataframe\">\n",
       "  <thead>\n",
       "    <tr style=\"text-align: right;\">\n",
       "      <th></th>\n",
       "      <th>A1BG</th>\n",
       "      <th>NAT2</th>\n",
       "      <th>ADA</th>\n",
       "      <th>CDH2</th>\n",
       "      <th>AKT3</th>\n",
       "      <th>MED6</th>\n",
       "      <th>NR2E3</th>\n",
       "      <th>NAALAD2</th>\n",
       "      <th>DUXB</th>\n",
       "      <th>PDZK1P1</th>\n",
       "      <th>...</th>\n",
       "      <th>RCE1</th>\n",
       "      <th>HNRNPDL</th>\n",
       "      <th>DMTF1</th>\n",
       "      <th>PPP4R1</th>\n",
       "      <th>CDH1</th>\n",
       "      <th>SLC12A6</th>\n",
       "      <th>KCNE2</th>\n",
       "      <th>DGCR2</th>\n",
       "      <th>CASP8AP2</th>\n",
       "      <th>SCO2</th>\n",
       "    </tr>\n",
       "    <tr>\n",
       "      <th>DepMap_ID</th>\n",
       "      <th></th>\n",
       "      <th></th>\n",
       "      <th></th>\n",
       "      <th></th>\n",
       "      <th></th>\n",
       "      <th></th>\n",
       "      <th></th>\n",
       "      <th></th>\n",
       "      <th></th>\n",
       "      <th></th>\n",
       "      <th></th>\n",
       "      <th></th>\n",
       "      <th></th>\n",
       "      <th></th>\n",
       "      <th></th>\n",
       "      <th></th>\n",
       "      <th></th>\n",
       "      <th></th>\n",
       "      <th></th>\n",
       "      <th></th>\n",
       "      <th></th>\n",
       "    </tr>\n",
       "  </thead>\n",
       "  <tbody>\n",
       "    <tr>\n",
       "      <th>ACH-001270</th>\n",
       "      <td>NaN</td>\n",
       "      <td>NaN</td>\n",
       "      <td>NaN</td>\n",
       "      <td>-0.194962</td>\n",
       "      <td>-0.256108</td>\n",
       "      <td>-0.174220</td>\n",
       "      <td>-0.140052</td>\n",
       "      <td>NaN</td>\n",
       "      <td>NaN</td>\n",
       "      <td>NaN</td>\n",
       "      <td>...</td>\n",
       "      <td>-0.201644</td>\n",
       "      <td>-0.363670</td>\n",
       "      <td>0.184260</td>\n",
       "      <td>-0.115616</td>\n",
       "      <td>-0.125958</td>\n",
       "      <td>NaN</td>\n",
       "      <td>0.088853</td>\n",
       "      <td>NaN</td>\n",
       "      <td>-0.843295</td>\n",
       "      <td>NaN</td>\n",
       "    </tr>\n",
       "    <tr>\n",
       "      <th>ACH-001000</th>\n",
       "      <td>NaN</td>\n",
       "      <td>NaN</td>\n",
       "      <td>NaN</td>\n",
       "      <td>-0.028171</td>\n",
       "      <td>0.100751</td>\n",
       "      <td>-0.456124</td>\n",
       "      <td>-0.174618</td>\n",
       "      <td>NaN</td>\n",
       "      <td>NaN</td>\n",
       "      <td>NaN</td>\n",
       "      <td>...</td>\n",
       "      <td>0.074889</td>\n",
       "      <td>0.152158</td>\n",
       "      <td>0.036011</td>\n",
       "      <td>0.117300</td>\n",
       "      <td>0.101725</td>\n",
       "      <td>NaN</td>\n",
       "      <td>-0.110628</td>\n",
       "      <td>NaN</td>\n",
       "      <td>-0.307031</td>\n",
       "      <td>NaN</td>\n",
       "    </tr>\n",
       "    <tr>\n",
       "      <th>ACH-001001</th>\n",
       "      <td>0.146042</td>\n",
       "      <td>0.102854</td>\n",
       "      <td>0.168839</td>\n",
       "      <td>0.063047</td>\n",
       "      <td>-0.008077</td>\n",
       "      <td>-0.214376</td>\n",
       "      <td>-0.153619</td>\n",
       "      <td>0.133830</td>\n",
       "      <td>0.138673</td>\n",
       "      <td>0.030345</td>\n",
       "      <td>...</td>\n",
       "      <td>0.006735</td>\n",
       "      <td>-0.033385</td>\n",
       "      <td>0.197651</td>\n",
       "      <td>-0.016372</td>\n",
       "      <td>0.077486</td>\n",
       "      <td>0.106165</td>\n",
       "      <td>0.057286</td>\n",
       "      <td>0.025596</td>\n",
       "      <td>-0.413669</td>\n",
       "      <td>0.122669</td>\n",
       "    </tr>\n",
       "    <tr>\n",
       "      <th>ACH-002319</th>\n",
       "      <td>-0.190388</td>\n",
       "      <td>0.384106</td>\n",
       "      <td>-0.120700</td>\n",
       "      <td>-0.237251</td>\n",
       "      <td>0.060267</td>\n",
       "      <td>-0.338946</td>\n",
       "      <td>-0.057551</td>\n",
       "      <td>0.134511</td>\n",
       "      <td>NaN</td>\n",
       "      <td>0.144463</td>\n",
       "      <td>...</td>\n",
       "      <td>0.209009</td>\n",
       "      <td>-0.156839</td>\n",
       "      <td>-0.155837</td>\n",
       "      <td>-0.001141</td>\n",
       "      <td>NaN</td>\n",
       "      <td>0.227968</td>\n",
       "      <td>0.028095</td>\n",
       "      <td>-0.080611</td>\n",
       "      <td>-1.849696</td>\n",
       "      <td>-0.078856</td>\n",
       "    </tr>\n",
       "    <tr>\n",
       "      <th>ACH-001827</th>\n",
       "      <td>0.907063</td>\n",
       "      <td>0.403192</td>\n",
       "      <td>0.004394</td>\n",
       "      <td>-0.017059</td>\n",
       "      <td>-0.094749</td>\n",
       "      <td>-0.328074</td>\n",
       "      <td>-0.089573</td>\n",
       "      <td>0.362029</td>\n",
       "      <td>NaN</td>\n",
       "      <td>-0.098161</td>\n",
       "      <td>...</td>\n",
       "      <td>-0.137465</td>\n",
       "      <td>-1.037848</td>\n",
       "      <td>-0.261262</td>\n",
       "      <td>-0.228016</td>\n",
       "      <td>NaN</td>\n",
       "      <td>0.088744</td>\n",
       "      <td>0.159467</td>\n",
       "      <td>0.014071</td>\n",
       "      <td>-0.414154</td>\n",
       "      <td>0.032661</td>\n",
       "    </tr>\n",
       "  </tbody>\n",
       "</table>\n",
       "<p>5 rows × 17309 columns</p>\n",
       "</div>"
      ],
      "text/plain": [
       "                A1BG      NAT2       ADA      CDH2      AKT3      MED6  \\\n",
       "DepMap_ID                                                                \n",
       "ACH-001270       NaN       NaN       NaN -0.194962 -0.256108 -0.174220   \n",
       "ACH-001000       NaN       NaN       NaN -0.028171  0.100751 -0.456124   \n",
       "ACH-001001  0.146042  0.102854  0.168839  0.063047 -0.008077 -0.214376   \n",
       "ACH-002319 -0.190388  0.384106 -0.120700 -0.237251  0.060267 -0.338946   \n",
       "ACH-001827  0.907063  0.403192  0.004394 -0.017059 -0.094749 -0.328074   \n",
       "\n",
       "               NR2E3   NAALAD2      DUXB   PDZK1P1    ...         RCE1  \\\n",
       "DepMap_ID                                             ...                \n",
       "ACH-001270 -0.140052       NaN       NaN       NaN    ...    -0.201644   \n",
       "ACH-001000 -0.174618       NaN       NaN       NaN    ...     0.074889   \n",
       "ACH-001001 -0.153619  0.133830  0.138673  0.030345    ...     0.006735   \n",
       "ACH-002319 -0.057551  0.134511       NaN  0.144463    ...     0.209009   \n",
       "ACH-001827 -0.089573  0.362029       NaN -0.098161    ...    -0.137465   \n",
       "\n",
       "             HNRNPDL     DMTF1    PPP4R1      CDH1   SLC12A6     KCNE2  \\\n",
       "DepMap_ID                                                                \n",
       "ACH-001270 -0.363670  0.184260 -0.115616 -0.125958       NaN  0.088853   \n",
       "ACH-001000  0.152158  0.036011  0.117300  0.101725       NaN -0.110628   \n",
       "ACH-001001 -0.033385  0.197651 -0.016372  0.077486  0.106165  0.057286   \n",
       "ACH-002319 -0.156839 -0.155837 -0.001141       NaN  0.227968  0.028095   \n",
       "ACH-001827 -1.037848 -0.261262 -0.228016       NaN  0.088744  0.159467   \n",
       "\n",
       "               DGCR2  CASP8AP2      SCO2  \n",
       "DepMap_ID                                 \n",
       "ACH-001270       NaN -0.843295       NaN  \n",
       "ACH-001000       NaN -0.307031       NaN  \n",
       "ACH-001001  0.025596 -0.413669  0.122669  \n",
       "ACH-002319 -0.080611 -1.849696 -0.078856  \n",
       "ACH-001827  0.014071 -0.414154  0.032661  \n",
       "\n",
       "[5 rows x 17309 columns]"
      ]
     },
     "execution_count": 5,
     "metadata": {},
     "output_type": "execute_result"
    }
   ],
   "source": [
    "rnai_df.head()"
   ]
  },
  {
   "cell_type": "code",
   "execution_count": 6,
   "metadata": {},
   "outputs": [],
   "source": [
    "recalculate = False\n",
    "filename = 'rnai_correlations'\n",
    "if recalculate:\n",
    "    %time rnai_corr = rnai_df.corr()\n",
    "    rnai_corr.to_hdf('%s.h5' % filename, filename)\n",
    "else:\n",
    "    rnai_corr = pd.read_hdf('%s.h5' % filename)"
   ]
  },
  {
   "cell_type": "code",
   "execution_count": 7,
   "metadata": {},
   "outputs": [],
   "source": [
    "rnai_mean = rnai_corr.values.mean()\n",
    "rnai_sd = rnai_corr.values.std()\n",
    "rnai_z = (rnai_corr - rnai_mean) / rnai_sd"
   ]
  },
  {
   "cell_type": "code",
   "execution_count": 8,
   "metadata": {},
   "outputs": [
    {
     "data": {
      "text/html": [
       "<div>\n",
       "<style scoped>\n",
       "    .dataframe tbody tr th:only-of-type {\n",
       "        vertical-align: middle;\n",
       "    }\n",
       "\n",
       "    .dataframe tbody tr th {\n",
       "        vertical-align: top;\n",
       "    }\n",
       "\n",
       "    .dataframe thead th {\n",
       "        text-align: right;\n",
       "    }\n",
       "</style>\n",
       "<table border=\"1\" class=\"dataframe\">\n",
       "  <thead>\n",
       "    <tr style=\"text-align: right;\">\n",
       "      <th></th>\n",
       "      <th>A1BG</th>\n",
       "      <th>NAT2</th>\n",
       "      <th>ADA</th>\n",
       "      <th>CDH2</th>\n",
       "      <th>AKT3</th>\n",
       "      <th>MED6</th>\n",
       "      <th>NR2E3</th>\n",
       "      <th>NAALAD2</th>\n",
       "      <th>DUXB</th>\n",
       "      <th>PDZK1P1</th>\n",
       "      <th>...</th>\n",
       "      <th>RCE1</th>\n",
       "      <th>HNRNPDL</th>\n",
       "      <th>DMTF1</th>\n",
       "      <th>PPP4R1</th>\n",
       "      <th>CDH1</th>\n",
       "      <th>SLC12A6</th>\n",
       "      <th>KCNE2</th>\n",
       "      <th>DGCR2</th>\n",
       "      <th>CASP8AP2</th>\n",
       "      <th>SCO2</th>\n",
       "    </tr>\n",
       "  </thead>\n",
       "  <tbody>\n",
       "    <tr>\n",
       "      <th>A1BG</th>\n",
       "      <td>12.735562</td>\n",
       "      <td>-0.770498</td>\n",
       "      <td>-0.828444</td>\n",
       "      <td>0.593730</td>\n",
       "      <td>-0.334519</td>\n",
       "      <td>-0.076705</td>\n",
       "      <td>1.054949</td>\n",
       "      <td>0.591804</td>\n",
       "      <td>0.385034</td>\n",
       "      <td>-0.120219</td>\n",
       "      <td>...</td>\n",
       "      <td>1.446480</td>\n",
       "      <td>-1.964996</td>\n",
       "      <td>-0.403560</td>\n",
       "      <td>0.402625</td>\n",
       "      <td>-0.396057</td>\n",
       "      <td>0.131028</td>\n",
       "      <td>0.227373</td>\n",
       "      <td>-0.701314</td>\n",
       "      <td>0.218191</td>\n",
       "      <td>1.198913</td>\n",
       "    </tr>\n",
       "    <tr>\n",
       "      <th>NAT2</th>\n",
       "      <td>-0.770498</td>\n",
       "      <td>12.735562</td>\n",
       "      <td>0.572062</td>\n",
       "      <td>-0.052426</td>\n",
       "      <td>-0.528069</td>\n",
       "      <td>0.307443</td>\n",
       "      <td>-0.021474</td>\n",
       "      <td>-0.590996</td>\n",
       "      <td>-0.318764</td>\n",
       "      <td>-1.449979</td>\n",
       "      <td>...</td>\n",
       "      <td>0.371740</td>\n",
       "      <td>-0.754718</td>\n",
       "      <td>0.017751</td>\n",
       "      <td>0.024919</td>\n",
       "      <td>-2.128375</td>\n",
       "      <td>-0.190518</td>\n",
       "      <td>0.608389</td>\n",
       "      <td>-0.842078</td>\n",
       "      <td>-1.303389</td>\n",
       "      <td>-0.503340</td>\n",
       "    </tr>\n",
       "    <tr>\n",
       "      <th>ADA</th>\n",
       "      <td>-0.828444</td>\n",
       "      <td>0.572062</td>\n",
       "      <td>12.735562</td>\n",
       "      <td>-0.451619</td>\n",
       "      <td>-0.577117</td>\n",
       "      <td>0.422290</td>\n",
       "      <td>-0.188984</td>\n",
       "      <td>-0.570248</td>\n",
       "      <td>-0.078767</td>\n",
       "      <td>0.119471</td>\n",
       "      <td>...</td>\n",
       "      <td>0.475397</td>\n",
       "      <td>0.045575</td>\n",
       "      <td>0.639884</td>\n",
       "      <td>0.858577</td>\n",
       "      <td>-0.315503</td>\n",
       "      <td>-0.353140</td>\n",
       "      <td>-0.704099</td>\n",
       "      <td>1.271989</td>\n",
       "      <td>0.150168</td>\n",
       "      <td>-0.217580</td>\n",
       "    </tr>\n",
       "    <tr>\n",
       "      <th>CDH2</th>\n",
       "      <td>0.593730</td>\n",
       "      <td>-0.052426</td>\n",
       "      <td>-0.451619</td>\n",
       "      <td>12.735562</td>\n",
       "      <td>0.565031</td>\n",
       "      <td>-0.946426</td>\n",
       "      <td>-0.135411</td>\n",
       "      <td>0.118138</td>\n",
       "      <td>0.201983</td>\n",
       "      <td>-0.383189</td>\n",
       "      <td>...</td>\n",
       "      <td>-0.570892</td>\n",
       "      <td>-1.780034</td>\n",
       "      <td>1.163082</td>\n",
       "      <td>-1.070628</td>\n",
       "      <td>-0.127555</td>\n",
       "      <td>-0.228329</td>\n",
       "      <td>0.010906</td>\n",
       "      <td>-1.423871</td>\n",
       "      <td>-1.132664</td>\n",
       "      <td>-0.382607</td>\n",
       "    </tr>\n",
       "    <tr>\n",
       "      <th>AKT3</th>\n",
       "      <td>-0.334519</td>\n",
       "      <td>-0.528069</td>\n",
       "      <td>-0.577117</td>\n",
       "      <td>0.565031</td>\n",
       "      <td>12.735562</td>\n",
       "      <td>-0.378659</td>\n",
       "      <td>-1.136175</td>\n",
       "      <td>0.590426</td>\n",
       "      <td>0.837794</td>\n",
       "      <td>-0.574912</td>\n",
       "      <td>...</td>\n",
       "      <td>-1.262663</td>\n",
       "      <td>0.259384</td>\n",
       "      <td>0.443690</td>\n",
       "      <td>-0.919940</td>\n",
       "      <td>0.283450</td>\n",
       "      <td>-1.192266</td>\n",
       "      <td>-0.581840</td>\n",
       "      <td>-1.243842</td>\n",
       "      <td>-0.184748</td>\n",
       "      <td>-0.345918</td>\n",
       "    </tr>\n",
       "  </tbody>\n",
       "</table>\n",
       "<p>5 rows × 17309 columns</p>\n",
       "</div>"
      ],
      "text/plain": [
       "           A1BG       NAT2        ADA       CDH2       AKT3      MED6  \\\n",
       "A1BG  12.735562  -0.770498  -0.828444   0.593730  -0.334519 -0.076705   \n",
       "NAT2  -0.770498  12.735562   0.572062  -0.052426  -0.528069  0.307443   \n",
       "ADA   -0.828444   0.572062  12.735562  -0.451619  -0.577117  0.422290   \n",
       "CDH2   0.593730  -0.052426  -0.451619  12.735562   0.565031 -0.946426   \n",
       "AKT3  -0.334519  -0.528069  -0.577117   0.565031  12.735562 -0.378659   \n",
       "\n",
       "         NR2E3   NAALAD2      DUXB   PDZK1P1    ...         RCE1   HNRNPDL  \\\n",
       "A1BG  1.054949  0.591804  0.385034 -0.120219    ...     1.446480 -1.964996   \n",
       "NAT2 -0.021474 -0.590996 -0.318764 -1.449979    ...     0.371740 -0.754718   \n",
       "ADA  -0.188984 -0.570248 -0.078767  0.119471    ...     0.475397  0.045575   \n",
       "CDH2 -0.135411  0.118138  0.201983 -0.383189    ...    -0.570892 -1.780034   \n",
       "AKT3 -1.136175  0.590426  0.837794 -0.574912    ...    -1.262663  0.259384   \n",
       "\n",
       "         DMTF1    PPP4R1      CDH1   SLC12A6     KCNE2     DGCR2  CASP8AP2  \\\n",
       "A1BG -0.403560  0.402625 -0.396057  0.131028  0.227373 -0.701314  0.218191   \n",
       "NAT2  0.017751  0.024919 -2.128375 -0.190518  0.608389 -0.842078 -1.303389   \n",
       "ADA   0.639884  0.858577 -0.315503 -0.353140 -0.704099  1.271989  0.150168   \n",
       "CDH2  1.163082 -1.070628 -0.127555 -0.228329  0.010906 -1.423871 -1.132664   \n",
       "AKT3  0.443690 -0.919940  0.283450 -1.192266 -0.581840 -1.243842 -0.184748   \n",
       "\n",
       "          SCO2  \n",
       "A1BG  1.198913  \n",
       "NAT2 -0.503340  \n",
       "ADA  -0.217580  \n",
       "CDH2 -0.382607  \n",
       "AKT3 -0.345918  \n",
       "\n",
       "[5 rows x 17309 columns]"
      ]
     },
     "execution_count": 8,
     "metadata": {},
     "output_type": "execute_result"
    }
   ],
   "source": [
    "rnai_z.head()"
   ]
  },
  {
   "cell_type": "markdown",
   "metadata": {},
   "source": [
    "### CRISPR Data\n",
    "\n",
    "Load CRISPR dependency data and normalize column names to gene names."
   ]
  },
  {
   "cell_type": "code",
   "execution_count": 9,
   "metadata": {},
   "outputs": [
    {
     "name": "stdout",
     "output_type": "stream",
     "text": [
      "CPU times: user 5.72 s, sys: 171 ms, total: 5.89 s\n",
      "Wall time: 5.9 s\n"
     ]
    }
   ],
   "source": [
    "%time crispr_df = pd.read_csv('data/gene_effect_corrected.csv', index_col=0)\n",
    "gene_cols = ['%s' % col.split(' ')[0] for col in crispr_df.columns]\n",
    "crispr_df.columns = gene_cols\n",
    "# Drop any duplicate columns (shouldn't be any for CRISPR, but just in case)\n",
    "crispr_df = crispr_df.loc[:,~crispr_df.columns.duplicated()]"
   ]
  },
  {
   "cell_type": "code",
   "execution_count": 10,
   "metadata": {},
   "outputs": [
    {
     "data": {
      "text/html": [
       "<div>\n",
       "<style scoped>\n",
       "    .dataframe tbody tr th:only-of-type {\n",
       "        vertical-align: middle;\n",
       "    }\n",
       "\n",
       "    .dataframe tbody tr th {\n",
       "        vertical-align: top;\n",
       "    }\n",
       "\n",
       "    .dataframe thead th {\n",
       "        text-align: right;\n",
       "    }\n",
       "</style>\n",
       "<table border=\"1\" class=\"dataframe\">\n",
       "  <thead>\n",
       "    <tr style=\"text-align: right;\">\n",
       "      <th></th>\n",
       "      <th>A1BG</th>\n",
       "      <th>A1CF</th>\n",
       "      <th>A2M</th>\n",
       "      <th>A2ML1</th>\n",
       "      <th>A3GALT2</th>\n",
       "      <th>A4GALT</th>\n",
       "      <th>A4GNT</th>\n",
       "      <th>AAAS</th>\n",
       "      <th>AACS</th>\n",
       "      <th>AADAC</th>\n",
       "      <th>...</th>\n",
       "      <th>ZUFSP</th>\n",
       "      <th>ZW10</th>\n",
       "      <th>ZWILCH</th>\n",
       "      <th>ZWINT</th>\n",
       "      <th>ZXDC</th>\n",
       "      <th>ZYG11A</th>\n",
       "      <th>ZYG11B</th>\n",
       "      <th>ZYX</th>\n",
       "      <th>ZZEF1</th>\n",
       "      <th>ZZZ3</th>\n",
       "    </tr>\n",
       "  </thead>\n",
       "  <tbody>\n",
       "    <tr>\n",
       "      <th>ACH-000004</th>\n",
       "      <td>0.134645</td>\n",
       "      <td>0.075536</td>\n",
       "      <td>-0.140209</td>\n",
       "      <td>0.013928</td>\n",
       "      <td>0.029131</td>\n",
       "      <td>-0.147284</td>\n",
       "      <td>0.275829</td>\n",
       "      <td>-0.363633</td>\n",
       "      <td>0.250165</td>\n",
       "      <td>0.129743</td>\n",
       "      <td>...</td>\n",
       "      <td>-0.125018</td>\n",
       "      <td>-0.145802</td>\n",
       "      <td>-0.095429</td>\n",
       "      <td>-0.396903</td>\n",
       "      <td>0.205685</td>\n",
       "      <td>0.197798</td>\n",
       "      <td>-0.347782</td>\n",
       "      <td>0.212048</td>\n",
       "      <td>0.202099</td>\n",
       "      <td>-0.123465</td>\n",
       "    </tr>\n",
       "    <tr>\n",
       "      <th>ACH-000005</th>\n",
       "      <td>-0.212445</td>\n",
       "      <td>0.233124</td>\n",
       "      <td>0.044365</td>\n",
       "      <td>0.173837</td>\n",
       "      <td>-0.124389</td>\n",
       "      <td>-0.298849</td>\n",
       "      <td>0.120260</td>\n",
       "      <td>-0.339925</td>\n",
       "      <td>-0.011309</td>\n",
       "      <td>0.015660</td>\n",
       "      <td>...</td>\n",
       "      <td>-0.142212</td>\n",
       "      <td>-0.377179</td>\n",
       "      <td>-0.109019</td>\n",
       "      <td>-0.544686</td>\n",
       "      <td>0.126581</td>\n",
       "      <td>0.033066</td>\n",
       "      <td>-0.060746</td>\n",
       "      <td>0.443834</td>\n",
       "      <td>-0.091548</td>\n",
       "      <td>0.065104</td>\n",
       "    </tr>\n",
       "    <tr>\n",
       "      <th>ACH-000007</th>\n",
       "      <td>0.043318</td>\n",
       "      <td>0.066838</td>\n",
       "      <td>-0.036197</td>\n",
       "      <td>0.134781</td>\n",
       "      <td>0.082996</td>\n",
       "      <td>0.119084</td>\n",
       "      <td>0.057116</td>\n",
       "      <td>-0.352541</td>\n",
       "      <td>-0.005800</td>\n",
       "      <td>0.241488</td>\n",
       "      <td>...</td>\n",
       "      <td>-0.063270</td>\n",
       "      <td>-0.469378</td>\n",
       "      <td>-0.068437</td>\n",
       "      <td>-0.207803</td>\n",
       "      <td>0.158380</td>\n",
       "      <td>0.001434</td>\n",
       "      <td>-0.255654</td>\n",
       "      <td>0.065777</td>\n",
       "      <td>-0.314659</td>\n",
       "      <td>-0.358418</td>\n",
       "    </tr>\n",
       "    <tr>\n",
       "      <th>ACH-000009</th>\n",
       "      <td>0.070512</td>\n",
       "      <td>0.008430</td>\n",
       "      <td>0.027114</td>\n",
       "      <td>0.055927</td>\n",
       "      <td>0.046325</td>\n",
       "      <td>0.015968</td>\n",
       "      <td>0.053502</td>\n",
       "      <td>-0.498860</td>\n",
       "      <td>0.110794</td>\n",
       "      <td>0.066921</td>\n",
       "      <td>...</td>\n",
       "      <td>0.114418</td>\n",
       "      <td>-0.374999</td>\n",
       "      <td>-0.204950</td>\n",
       "      <td>-0.196839</td>\n",
       "      <td>0.043411</td>\n",
       "      <td>0.018276</td>\n",
       "      <td>-0.398310</td>\n",
       "      <td>0.151885</td>\n",
       "      <td>-0.124333</td>\n",
       "      <td>-0.391758</td>\n",
       "    </tr>\n",
       "    <tr>\n",
       "      <th>ACH-000011</th>\n",
       "      <td>0.190935</td>\n",
       "      <td>0.083952</td>\n",
       "      <td>-0.000741</td>\n",
       "      <td>0.353375</td>\n",
       "      <td>-0.037044</td>\n",
       "      <td>-0.205803</td>\n",
       "      <td>0.071275</td>\n",
       "      <td>-0.317310</td>\n",
       "      <td>0.099824</td>\n",
       "      <td>0.105539</td>\n",
       "      <td>...</td>\n",
       "      <td>0.052517</td>\n",
       "      <td>-0.510975</td>\n",
       "      <td>-0.345998</td>\n",
       "      <td>-0.408631</td>\n",
       "      <td>0.241005</td>\n",
       "      <td>0.141594</td>\n",
       "      <td>-0.177939</td>\n",
       "      <td>0.092722</td>\n",
       "      <td>-0.161591</td>\n",
       "      <td>-0.329937</td>\n",
       "    </tr>\n",
       "  </tbody>\n",
       "</table>\n",
       "<p>5 rows × 17634 columns</p>\n",
       "</div>"
      ],
      "text/plain": [
       "                A1BG      A1CF       A2M     A2ML1   A3GALT2    A4GALT  \\\n",
       "ACH-000004  0.134645  0.075536 -0.140209  0.013928  0.029131 -0.147284   \n",
       "ACH-000005 -0.212445  0.233124  0.044365  0.173837 -0.124389 -0.298849   \n",
       "ACH-000007  0.043318  0.066838 -0.036197  0.134781  0.082996  0.119084   \n",
       "ACH-000009  0.070512  0.008430  0.027114  0.055927  0.046325  0.015968   \n",
       "ACH-000011  0.190935  0.083952 -0.000741  0.353375 -0.037044 -0.205803   \n",
       "\n",
       "               A4GNT      AAAS      AACS     AADAC    ...        ZUFSP  \\\n",
       "ACH-000004  0.275829 -0.363633  0.250165  0.129743    ...    -0.125018   \n",
       "ACH-000005  0.120260 -0.339925 -0.011309  0.015660    ...    -0.142212   \n",
       "ACH-000007  0.057116 -0.352541 -0.005800  0.241488    ...    -0.063270   \n",
       "ACH-000009  0.053502 -0.498860  0.110794  0.066921    ...     0.114418   \n",
       "ACH-000011  0.071275 -0.317310  0.099824  0.105539    ...     0.052517   \n",
       "\n",
       "                ZW10    ZWILCH     ZWINT      ZXDC    ZYG11A    ZYG11B  \\\n",
       "ACH-000004 -0.145802 -0.095429 -0.396903  0.205685  0.197798 -0.347782   \n",
       "ACH-000005 -0.377179 -0.109019 -0.544686  0.126581  0.033066 -0.060746   \n",
       "ACH-000007 -0.469378 -0.068437 -0.207803  0.158380  0.001434 -0.255654   \n",
       "ACH-000009 -0.374999 -0.204950 -0.196839  0.043411  0.018276 -0.398310   \n",
       "ACH-000011 -0.510975 -0.345998 -0.408631  0.241005  0.141594 -0.177939   \n",
       "\n",
       "                 ZYX     ZZEF1      ZZZ3  \n",
       "ACH-000004  0.212048  0.202099 -0.123465  \n",
       "ACH-000005  0.443834 -0.091548  0.065104  \n",
       "ACH-000007  0.065777 -0.314659 -0.358418  \n",
       "ACH-000009  0.151885 -0.124333 -0.391758  \n",
       "ACH-000011  0.092722 -0.161591 -0.329937  \n",
       "\n",
       "[5 rows x 17634 columns]"
      ]
     },
     "execution_count": 10,
     "metadata": {},
     "output_type": "execute_result"
    }
   ],
   "source": [
    "crispr_df.head()"
   ]
  },
  {
   "cell_type": "code",
   "execution_count": 11,
   "metadata": {},
   "outputs": [],
   "source": [
    "recalculate = False\n",
    "filename = 'crispr_correlations'\n",
    "if recalculate:\n",
    "    %time crispr_corr = crispr_df.corr()\n",
    "    crispr_corr.to_hdf('%s.h5' % filename, filename)\n",
    "else:\n",
    "    crispr_corr = pd.read_hdf('%s.h5' % filename)    "
   ]
  },
  {
   "cell_type": "code",
   "execution_count": 12,
   "metadata": {},
   "outputs": [],
   "source": [
    "crispr_mean = crispr_corr.values.mean()\n",
    "crispr_sd = crispr_corr.values.std()\n",
    "crispr_z = (crispr_corr - crispr_mean) / crispr_sd"
   ]
  },
  {
   "cell_type": "code",
   "execution_count": 13,
   "metadata": {},
   "outputs": [
    {
     "data": {
      "text/html": [
       "<div>\n",
       "<style scoped>\n",
       "    .dataframe tbody tr th:only-of-type {\n",
       "        vertical-align: middle;\n",
       "    }\n",
       "\n",
       "    .dataframe tbody tr th {\n",
       "        vertical-align: top;\n",
       "    }\n",
       "\n",
       "    .dataframe thead th {\n",
       "        text-align: right;\n",
       "    }\n",
       "</style>\n",
       "<table border=\"1\" class=\"dataframe\">\n",
       "  <thead>\n",
       "    <tr style=\"text-align: right;\">\n",
       "      <th></th>\n",
       "      <th>A1BG</th>\n",
       "      <th>A1CF</th>\n",
       "      <th>A2M</th>\n",
       "      <th>A2ML1</th>\n",
       "      <th>A3GALT2</th>\n",
       "      <th>A4GALT</th>\n",
       "      <th>A4GNT</th>\n",
       "      <th>AAAS</th>\n",
       "      <th>AACS</th>\n",
       "      <th>AADAC</th>\n",
       "      <th>...</th>\n",
       "      <th>ZUFSP</th>\n",
       "      <th>ZW10</th>\n",
       "      <th>ZWILCH</th>\n",
       "      <th>ZWINT</th>\n",
       "      <th>ZXDC</th>\n",
       "      <th>ZYG11A</th>\n",
       "      <th>ZYG11B</th>\n",
       "      <th>ZYX</th>\n",
       "      <th>ZZEF1</th>\n",
       "      <th>ZZZ3</th>\n",
       "    </tr>\n",
       "  </thead>\n",
       "  <tbody>\n",
       "    <tr>\n",
       "      <th>A1BG</th>\n",
       "      <td>15.702188</td>\n",
       "      <td>-2.386180</td>\n",
       "      <td>0.707704</td>\n",
       "      <td>-0.934041</td>\n",
       "      <td>-0.379640</td>\n",
       "      <td>1.374084</td>\n",
       "      <td>0.408982</td>\n",
       "      <td>-0.024119</td>\n",
       "      <td>0.247325</td>\n",
       "      <td>-0.840008</td>\n",
       "      <td>...</td>\n",
       "      <td>0.741943</td>\n",
       "      <td>0.435376</td>\n",
       "      <td>1.730729</td>\n",
       "      <td>-0.310362</td>\n",
       "      <td>0.492130</td>\n",
       "      <td>0.223511</td>\n",
       "      <td>-0.891265</td>\n",
       "      <td>0.864840</td>\n",
       "      <td>1.793417</td>\n",
       "      <td>-1.133502</td>\n",
       "    </tr>\n",
       "    <tr>\n",
       "      <th>A1CF</th>\n",
       "      <td>-2.386180</td>\n",
       "      <td>15.702188</td>\n",
       "      <td>0.777311</td>\n",
       "      <td>1.014674</td>\n",
       "      <td>-0.416909</td>\n",
       "      <td>-2.654806</td>\n",
       "      <td>1.068659</td>\n",
       "      <td>0.551682</td>\n",
       "      <td>-1.058101</td>\n",
       "      <td>0.509184</td>\n",
       "      <td>...</td>\n",
       "      <td>-0.322839</td>\n",
       "      <td>-0.006776</td>\n",
       "      <td>-0.749077</td>\n",
       "      <td>-0.492167</td>\n",
       "      <td>-0.609961</td>\n",
       "      <td>-0.528955</td>\n",
       "      <td>0.162673</td>\n",
       "      <td>-0.211249</td>\n",
       "      <td>0.596772</td>\n",
       "      <td>1.417246</td>\n",
       "    </tr>\n",
       "    <tr>\n",
       "      <th>A2M</th>\n",
       "      <td>0.707704</td>\n",
       "      <td>0.777311</td>\n",
       "      <td>15.702188</td>\n",
       "      <td>2.862549</td>\n",
       "      <td>0.144445</td>\n",
       "      <td>-1.255464</td>\n",
       "      <td>0.221704</td>\n",
       "      <td>0.296796</td>\n",
       "      <td>-0.535641</td>\n",
       "      <td>1.410287</td>\n",
       "      <td>...</td>\n",
       "      <td>-0.024287</td>\n",
       "      <td>-0.161665</td>\n",
       "      <td>-1.115966</td>\n",
       "      <td>-0.854403</td>\n",
       "      <td>0.594724</td>\n",
       "      <td>0.514484</td>\n",
       "      <td>0.636436</td>\n",
       "      <td>-0.222754</td>\n",
       "      <td>0.461710</td>\n",
       "      <td>0.229546</td>\n",
       "    </tr>\n",
       "    <tr>\n",
       "      <th>A2ML1</th>\n",
       "      <td>-0.934041</td>\n",
       "      <td>1.014674</td>\n",
       "      <td>2.862549</td>\n",
       "      <td>15.702188</td>\n",
       "      <td>-1.837334</td>\n",
       "      <td>-0.531481</td>\n",
       "      <td>0.075937</td>\n",
       "      <td>-0.393265</td>\n",
       "      <td>-0.517553</td>\n",
       "      <td>-1.381904</td>\n",
       "      <td>...</td>\n",
       "      <td>0.843496</td>\n",
       "      <td>-0.603123</td>\n",
       "      <td>-2.237009</td>\n",
       "      <td>-0.876197</td>\n",
       "      <td>0.254274</td>\n",
       "      <td>0.606953</td>\n",
       "      <td>0.060357</td>\n",
       "      <td>-0.526139</td>\n",
       "      <td>-1.190060</td>\n",
       "      <td>-1.336930</td>\n",
       "    </tr>\n",
       "    <tr>\n",
       "      <th>A3GALT2</th>\n",
       "      <td>-0.379640</td>\n",
       "      <td>-0.416909</td>\n",
       "      <td>0.144445</td>\n",
       "      <td>-1.837334</td>\n",
       "      <td>15.702188</td>\n",
       "      <td>-0.823952</td>\n",
       "      <td>-1.520719</td>\n",
       "      <td>-0.882608</td>\n",
       "      <td>0.669479</td>\n",
       "      <td>1.123305</td>\n",
       "      <td>...</td>\n",
       "      <td>0.272494</td>\n",
       "      <td>0.324941</td>\n",
       "      <td>-0.882686</td>\n",
       "      <td>-0.251457</td>\n",
       "      <td>-1.224863</td>\n",
       "      <td>-0.584351</td>\n",
       "      <td>1.820460</td>\n",
       "      <td>0.931479</td>\n",
       "      <td>1.002220</td>\n",
       "      <td>0.874779</td>\n",
       "    </tr>\n",
       "  </tbody>\n",
       "</table>\n",
       "<p>5 rows × 17634 columns</p>\n",
       "</div>"
      ],
      "text/plain": [
       "              A1BG       A1CF        A2M      A2ML1    A3GALT2    A4GALT  \\\n",
       "A1BG     15.702188  -2.386180   0.707704  -0.934041  -0.379640  1.374084   \n",
       "A1CF     -2.386180  15.702188   0.777311   1.014674  -0.416909 -2.654806   \n",
       "A2M       0.707704   0.777311  15.702188   2.862549   0.144445 -1.255464   \n",
       "A2ML1    -0.934041   1.014674   2.862549  15.702188  -1.837334 -0.531481   \n",
       "A3GALT2  -0.379640  -0.416909   0.144445  -1.837334  15.702188 -0.823952   \n",
       "\n",
       "            A4GNT      AAAS      AACS     AADAC    ...        ZUFSP      ZW10  \\\n",
       "A1BG     0.408982 -0.024119  0.247325 -0.840008    ...     0.741943  0.435376   \n",
       "A1CF     1.068659  0.551682 -1.058101  0.509184    ...    -0.322839 -0.006776   \n",
       "A2M      0.221704  0.296796 -0.535641  1.410287    ...    -0.024287 -0.161665   \n",
       "A2ML1    0.075937 -0.393265 -0.517553 -1.381904    ...     0.843496 -0.603123   \n",
       "A3GALT2 -1.520719 -0.882608  0.669479  1.123305    ...     0.272494  0.324941   \n",
       "\n",
       "           ZWILCH     ZWINT      ZXDC    ZYG11A    ZYG11B       ZYX     ZZEF1  \\\n",
       "A1BG     1.730729 -0.310362  0.492130  0.223511 -0.891265  0.864840  1.793417   \n",
       "A1CF    -0.749077 -0.492167 -0.609961 -0.528955  0.162673 -0.211249  0.596772   \n",
       "A2M     -1.115966 -0.854403  0.594724  0.514484  0.636436 -0.222754  0.461710   \n",
       "A2ML1   -2.237009 -0.876197  0.254274  0.606953  0.060357 -0.526139 -1.190060   \n",
       "A3GALT2 -0.882686 -0.251457 -1.224863 -0.584351  1.820460  0.931479  1.002220   \n",
       "\n",
       "             ZZZ3  \n",
       "A1BG    -1.133502  \n",
       "A1CF     1.417246  \n",
       "A2M      0.229546  \n",
       "A2ML1   -1.336930  \n",
       "A3GALT2  0.874779  \n",
       "\n",
       "[5 rows x 17634 columns]"
      ]
     },
     "execution_count": 13,
     "metadata": {},
     "output_type": "execute_result"
    }
   ],
   "source": [
    "crispr_z.head()"
   ]
  },
  {
   "cell_type": "markdown",
   "metadata": {},
   "source": [
    "### Combine CRISPR and RNAi Z-scores\n",
    "\n",
    "Take the average of CRISPR and RNAi z-scores and drop missing values (that arise from a gene being knocked down/out in one dataset but not the other)."
   ]
  },
  {
   "cell_type": "code",
   "execution_count": 14,
   "metadata": {},
   "outputs": [],
   "source": [
    "dep_z = (crispr_z + rnai_z) / 2\n",
    "dep_z = dep_z.dropna(axis=0, how='all').dropna(axis=1, how='all')"
   ]
  },
  {
   "cell_type": "code",
   "execution_count": 15,
   "metadata": {},
   "outputs": [
    {
     "data": {
      "text/html": [
       "<div>\n",
       "<style scoped>\n",
       "    .dataframe tbody tr th:only-of-type {\n",
       "        vertical-align: middle;\n",
       "    }\n",
       "\n",
       "    .dataframe tbody tr th {\n",
       "        vertical-align: top;\n",
       "    }\n",
       "\n",
       "    .dataframe thead th {\n",
       "        text-align: right;\n",
       "    }\n",
       "</style>\n",
       "<table border=\"1\" class=\"dataframe\">\n",
       "  <thead>\n",
       "    <tr style=\"text-align: right;\">\n",
       "      <th></th>\n",
       "      <th>A1BG</th>\n",
       "      <th>A1CF</th>\n",
       "      <th>A2M</th>\n",
       "      <th>A2ML1</th>\n",
       "      <th>A4GALT</th>\n",
       "      <th>A4GNT</th>\n",
       "      <th>AAAS</th>\n",
       "      <th>AACS</th>\n",
       "      <th>AADAC</th>\n",
       "      <th>AADACL2</th>\n",
       "      <th>...</th>\n",
       "      <th>ZSWIM8</th>\n",
       "      <th>ZUFSP</th>\n",
       "      <th>ZW10</th>\n",
       "      <th>ZWILCH</th>\n",
       "      <th>ZWINT</th>\n",
       "      <th>ZXDC</th>\n",
       "      <th>ZYG11A</th>\n",
       "      <th>ZYX</th>\n",
       "      <th>ZZEF1</th>\n",
       "      <th>ZZZ3</th>\n",
       "    </tr>\n",
       "  </thead>\n",
       "  <tbody>\n",
       "    <tr>\n",
       "      <th>A1BG</th>\n",
       "      <td>14.218875</td>\n",
       "      <td>-1.641540</td>\n",
       "      <td>0.174701</td>\n",
       "      <td>-0.710706</td>\n",
       "      <td>0.600630</td>\n",
       "      <td>0.276969</td>\n",
       "      <td>0.241224</td>\n",
       "      <td>-0.499778</td>\n",
       "      <td>-0.270496</td>\n",
       "      <td>0.927183</td>\n",
       "      <td>...</td>\n",
       "      <td>-0.499068</td>\n",
       "      <td>0.087005</td>\n",
       "      <td>0.748763</td>\n",
       "      <td>1.635793</td>\n",
       "      <td>-0.582732</td>\n",
       "      <td>0.101571</td>\n",
       "      <td>0.287507</td>\n",
       "      <td>0.301606</td>\n",
       "      <td>0.782199</td>\n",
       "      <td>-0.821139</td>\n",
       "    </tr>\n",
       "    <tr>\n",
       "      <th>A1CF</th>\n",
       "      <td>-1.641540</td>\n",
       "      <td>14.218875</td>\n",
       "      <td>0.226420</td>\n",
       "      <td>1.113856</td>\n",
       "      <td>-1.652816</td>\n",
       "      <td>0.770553</td>\n",
       "      <td>0.806387</td>\n",
       "      <td>-0.226993</td>\n",
       "      <td>0.797251</td>\n",
       "      <td>-0.680314</td>\n",
       "      <td>...</td>\n",
       "      <td>1.401634</td>\n",
       "      <td>-0.206353</td>\n",
       "      <td>0.586287</td>\n",
       "      <td>-1.033367</td>\n",
       "      <td>-0.504007</td>\n",
       "      <td>-0.036164</td>\n",
       "      <td>0.512105</td>\n",
       "      <td>0.481656</td>\n",
       "      <td>-0.142991</td>\n",
       "      <td>0.188393</td>\n",
       "    </tr>\n",
       "    <tr>\n",
       "      <th>A2M</th>\n",
       "      <td>0.174701</td>\n",
       "      <td>0.226420</td>\n",
       "      <td>14.218875</td>\n",
       "      <td>0.650837</td>\n",
       "      <td>-1.021248</td>\n",
       "      <td>0.612275</td>\n",
       "      <td>-0.048856</td>\n",
       "      <td>-1.005797</td>\n",
       "      <td>0.025271</td>\n",
       "      <td>-0.062552</td>\n",
       "      <td>...</td>\n",
       "      <td>-1.610764</td>\n",
       "      <td>-0.197283</td>\n",
       "      <td>0.341141</td>\n",
       "      <td>-1.128443</td>\n",
       "      <td>-0.190276</td>\n",
       "      <td>-0.656055</td>\n",
       "      <td>0.235837</td>\n",
       "      <td>-0.123588</td>\n",
       "      <td>0.201963</td>\n",
       "      <td>-0.639490</td>\n",
       "    </tr>\n",
       "    <tr>\n",
       "      <th>A2ML1</th>\n",
       "      <td>-0.710706</td>\n",
       "      <td>1.113856</td>\n",
       "      <td>0.650837</td>\n",
       "      <td>14.218875</td>\n",
       "      <td>-0.034970</td>\n",
       "      <td>0.018683</td>\n",
       "      <td>0.300031</td>\n",
       "      <td>0.242733</td>\n",
       "      <td>-0.044408</td>\n",
       "      <td>0.192172</td>\n",
       "      <td>...</td>\n",
       "      <td>-0.950780</td>\n",
       "      <td>0.612281</td>\n",
       "      <td>-0.852989</td>\n",
       "      <td>-1.124449</td>\n",
       "      <td>-0.399207</td>\n",
       "      <td>0.194268</td>\n",
       "      <td>0.216755</td>\n",
       "      <td>-0.629916</td>\n",
       "      <td>-0.978384</td>\n",
       "      <td>-1.194554</td>\n",
       "    </tr>\n",
       "    <tr>\n",
       "      <th>A4GALT</th>\n",
       "      <td>0.600630</td>\n",
       "      <td>-1.652816</td>\n",
       "      <td>-1.021248</td>\n",
       "      <td>-0.034970</td>\n",
       "      <td>14.218875</td>\n",
       "      <td>-0.081189</td>\n",
       "      <td>0.682173</td>\n",
       "      <td>-0.223844</td>\n",
       "      <td>0.191413</td>\n",
       "      <td>1.987894</td>\n",
       "      <td>...</td>\n",
       "      <td>-1.212056</td>\n",
       "      <td>0.442917</td>\n",
       "      <td>0.060337</td>\n",
       "      <td>0.259868</td>\n",
       "      <td>-0.439867</td>\n",
       "      <td>0.230350</td>\n",
       "      <td>0.170937</td>\n",
       "      <td>0.713676</td>\n",
       "      <td>-1.218043</td>\n",
       "      <td>-0.387938</td>\n",
       "    </tr>\n",
       "  </tbody>\n",
       "</table>\n",
       "<p>5 rows × 14915 columns</p>\n",
       "</div>"
      ],
      "text/plain": [
       "             A1BG       A1CF        A2M      A2ML1     A4GALT     A4GNT  \\\n",
       "A1BG    14.218875  -1.641540   0.174701  -0.710706   0.600630  0.276969   \n",
       "A1CF    -1.641540  14.218875   0.226420   1.113856  -1.652816  0.770553   \n",
       "A2M      0.174701   0.226420  14.218875   0.650837  -1.021248  0.612275   \n",
       "A2ML1   -0.710706   1.113856   0.650837  14.218875  -0.034970  0.018683   \n",
       "A4GALT   0.600630  -1.652816  -1.021248  -0.034970  14.218875 -0.081189   \n",
       "\n",
       "            AAAS      AACS     AADAC   AADACL2    ...       ZSWIM8     ZUFSP  \\\n",
       "A1BG    0.241224 -0.499778 -0.270496  0.927183    ...    -0.499068  0.087005   \n",
       "A1CF    0.806387 -0.226993  0.797251 -0.680314    ...     1.401634 -0.206353   \n",
       "A2M    -0.048856 -1.005797  0.025271 -0.062552    ...    -1.610764 -0.197283   \n",
       "A2ML1   0.300031  0.242733 -0.044408  0.192172    ...    -0.950780  0.612281   \n",
       "A4GALT  0.682173 -0.223844  0.191413  1.987894    ...    -1.212056  0.442917   \n",
       "\n",
       "            ZW10    ZWILCH     ZWINT      ZXDC    ZYG11A       ZYX     ZZEF1  \\\n",
       "A1BG    0.748763  1.635793 -0.582732  0.101571  0.287507  0.301606  0.782199   \n",
       "A1CF    0.586287 -1.033367 -0.504007 -0.036164  0.512105  0.481656 -0.142991   \n",
       "A2M     0.341141 -1.128443 -0.190276 -0.656055  0.235837 -0.123588  0.201963   \n",
       "A2ML1  -0.852989 -1.124449 -0.399207  0.194268  0.216755 -0.629916 -0.978384   \n",
       "A4GALT  0.060337  0.259868 -0.439867  0.230350  0.170937  0.713676 -1.218043   \n",
       "\n",
       "            ZZZ3  \n",
       "A1BG   -0.821139  \n",
       "A1CF    0.188393  \n",
       "A2M    -0.639490  \n",
       "A2ML1  -1.194554  \n",
       "A4GALT -0.387938  \n",
       "\n",
       "[5 rows x 14915 columns]"
      ]
     },
     "execution_count": 15,
     "metadata": {},
     "output_type": "execute_result"
    }
   ],
   "source": [
    "dep_z.head()"
   ]
  },
  {
   "cell_type": "markdown",
   "metadata": {},
   "source": [
    "### Expression Data\n",
    "\n",
    "Load the RNA-seq data (in transcripts per million, obtained from the DepMap website at https://depmap.org/portal/download/). Normalize column names (which include both gene names and Ensemble IDs) to only gene names, and then drop duplicate columns, keeping the first instance of the column for the gene name (there are 87 genes associated with more than one Ensemble ID, and these result in duplicate columns after normalizing to gene names)."
   ]
  },
  {
   "cell_type": "code",
   "execution_count": 110,
   "metadata": {},
   "outputs": [
    {
     "name": "stdout",
     "output_type": "stream",
     "text": [
      "CPU times: user 55.2 s, sys: 1.58 s, total: 56.8 s\n",
      "Wall time: 56.8 s\n"
     ]
    }
   ],
   "source": [
    "%time ccle_df = pd.read_csv('data/CCLE_depMap_19Q1_TPM.csv', index_col=0)"
   ]
  },
  {
   "cell_type": "code",
   "execution_count": 234,
   "metadata": {},
   "outputs": [],
   "source": [
    "gene_cols = ['%s' % col.split(' ')[0] for col in ccle_df.columns]\n",
    "ccle_df.columns = gene_cols\n",
    "# NOTE: This first way doesn't work! Probably because with duplicate column names a\n",
    "# separate integer index is created after transposition (?)\n",
    "#%time ccle_df_drop = ccle_df.T.drop_duplicates(keep='first').T\n",
    "# See: https://stackoverflow.com/questions/14984119/python-pandas-remove-duplicate-columns\n",
    "ccle_df_drop = ccle_df.loc[:,~ccle_df.columns.duplicated()]"
   ]
  },
  {
   "cell_type": "markdown",
   "metadata": {},
   "source": [
    "Filter the expression data to contain only those columns also contained in the CRISPR dependency data (protein coding genes, for the most part)."
   ]
  },
  {
   "cell_type": "code",
   "execution_count": 235,
   "metadata": {},
   "outputs": [],
   "source": [
    "crispr_cols = [c for c in crispr_df.columns]\n",
    "# Create a boolean mask to filter the CCLE expression data columns\n",
    "ccle_col_mask = np.array(ccle_df_drop.columns.map(lambda x: x in crispr_cols), dtype=bool)\n",
    "ccle_df_filt = ccle_df_drop[ccle_df_drop.columns[ccle_col_mask]]"
   ]
  },
  {
   "cell_type": "markdown",
   "metadata": {},
   "source": [
    "Join the two datasets on the cell line index:"
   ]
  },
  {
   "cell_type": "code",
   "execution_count": 236,
   "metadata": {},
   "outputs": [],
   "source": [
    "crispr_expr_join_df = crispr_df.join(ccle_df_filt, how='left', lsuffix=' KO', rsuffix=' RNA')"
   ]
  },
  {
   "cell_type": "markdown",
   "metadata": {},
   "source": [
    "Calculate the correlations (slow) or reload from HDF5."
   ]
  },
  {
   "cell_type": "code",
   "execution_count": 85,
   "metadata": {},
   "outputs": [],
   "source": [
    "recalculate = False\n",
    "filename = 'dep_expr_correlations'\n",
    "if recalculate:\n",
    "    %time corr = dep_expr_join_df.corr()\n",
    "    corr.to_hdf('%s.h5' % filename, filename)\n",
    "else:\n",
    "    corr = pd.read_hdf('%s.h5' % filename)"
   ]
  },
  {
   "cell_type": "markdown",
   "metadata": {
    "heading_collapsed": true
   },
   "source": [
    "## Define functions for exploring and visualizing the data"
   ]
  },
  {
   "cell_type": "markdown",
   "metadata": {
    "hidden": true
   },
   "source": [
    "Get the sorted list of correlations for a given gene."
   ]
  },
  {
   "cell_type": "code",
   "execution_count": 182,
   "metadata": {
    "code_folding": [
     0
    ],
    "hidden": true
   },
   "outputs": [],
   "source": [
    "def sort_corrs(corrs, col_name):\n",
    "    s = corrs[col_name]\n",
    "    return sorted(list(zip(s.index, s)), key=lambda x: abs(float(x[1])), reverse=True)"
   ]
  },
  {
   "cell_type": "markdown",
   "metadata": {
    "hidden": true
   },
   "source": [
    "Define a function to get the top correlated genes for a given gene."
   ]
  },
  {
   "cell_type": "code",
   "execution_count": 228,
   "metadata": {
    "code_folding": [
     0
    ],
    "hidden": true
   },
   "outputs": [],
   "source": [
    "def get_expr_corrs(df, geneX):\n",
    "    mygene_arr = df[geneX].values\n",
    "    data = df.values\n",
    "    corrs = np.zeros(data.shape[1])\n",
    "    for i in range(data.shape[1]):\n",
    "        vect = data[:,i]\n",
    "        r = np.corrcoef(mygene_arr, vect)[0, 1]\n",
    "        corrs[i] = r\n",
    "    genes = [c for c in df.columns]\n",
    "    corr_genes = sorted(list(zip(genes, corrs)), reverse=True, key=lambda x: abs(x[1]))\n",
    "    corr_genes_dict = {k: v for k, v in corr_genes}\n",
    "    return corr_genes"
   ]
  },
  {
   "cell_type": "markdown",
   "metadata": {
    "hidden": true
   },
   "source": [
    "Define a function to plot the relationship between the transcription of two genes, along with a linear regression and the residuals."
   ]
  },
  {
   "cell_type": "code",
   "execution_count": 241,
   "metadata": {
    "code_folding": [
     0
    ],
    "hidden": true
   },
   "outputs": [],
   "source": [
    "def scatter(df, geneX, y_arr, y_label, bins=30):\n",
    "    plt.figure(figsize=(12,3))\n",
    "    plt.subplot(1, 3, 1)\n",
    "    plt.plot(df[geneX], y_arr, linestyle='', marker='.')\n",
    "    plt.xlabel('%s TPM' % geneX)\n",
    "    plt.ylabel(y_label)\n",
    "    r = np.corrcoef(df[geneX], y_arr)[0][1]\n",
    "    plt.title('Corr: %.3f' % r)\n",
    "    slope, intercept, r_value, p_value, std_err = \\\n",
    "                    stats.linregress(df[geneX], y_arr)\n",
    "    yhat = slope * df[geneX] + intercept\n",
    "    plt.plot(df[geneX], yhat, color='k')\n",
    "    residuals = y_arr - yhat\n",
    "    plt.subplot(1, 3, 2)\n",
    "    plt.hist(residuals, bins=bins)\n",
    "    plt.title('Residuals')\n",
    "    plt.subplot(1, 3, 3)\n",
    "    stats.probplot(residuals, dist='norm', plot=plt)\n",
    "    plt.title('Quantile-quantile plot vs. normal')\n",
    "    return residuals"
   ]
  },
  {
   "cell_type": "code",
   "execution_count": 246,
   "metadata": {
    "hidden": true
   },
   "outputs": [
    {
     "data": {
      "image/png": "[encoded data removed]",
      "text/plain": [
       "<Figure size 864x216 with 3 Axes>"
      ]
     },
     "metadata": {
      "needs_background": "light"
     },
     "output_type": "display_data"
    }
   ],
   "source": [
    "res1 = scatter(ccle_df, 'EGFR', ccle_df['BCL2'], 'BCL2 TPM', bins=20)"
   ]
  },
  {
   "cell_type": "code",
   "execution_count": 247,
   "metadata": {
    "hidden": true
   },
   "outputs": [
    {
     "data": {
      "image/png": "[encoded data removed]",
      "text/plain": [
       "<Figure size 864x216 with 3 Axes>"
      ]
     },
     "metadata": {
      "needs_background": "light"
     },
     "output_type": "display_data"
    }
   ],
   "source": [
    "res2 = scatter(ccle_df, 'YAP1', res1, 'Res 1', bins=20)"
   ]
  },
  {
   "cell_type": "markdown",
   "metadata": {
    "hidden": true
   },
   "source": [
    "Next steps:\n",
    "1. load the INDRA SIF statement file\n",
    "2. tabulate explanations for correlations;\n",
    "3. predict correlations from graph structure, edge properties"
   ]
  },
  {
   "cell_type": "markdown",
   "metadata": {},
   "source": [
    "# Load INDRA SIF DB"
   ]
  },
  {
   "cell_type": "code",
   "execution_count": 16,
   "metadata": {},
   "outputs": [
    {
     "name": "stderr",
     "output_type": "stream",
     "text": [
      "/Users/johnbachman/.virtualenvs/p36env/lib/python3.6/site-packages/IPython/core/interactiveshell.py:3020: DtypeWarning: Columns (1) have mixed types. Specify dtype option on import or set low_memory=False.\n",
      "  interactivity=interactivity, compiler=compiler, result=result)\n"
     ]
    }
   ],
   "source": [
    "stmts_df = pd.read_csv('data/stmts_by_pair_type.csv')\n",
    "# Filter to HGNC only\n",
    "stmts_df = stmts_df[(stmts_df['agA_ns'] == 'HGNC') & (stmts_df['agB_ns'] == 'HGNC')]\n",
    "# Remove namespace and identifier columns, leaving only name\n",
    "stmts_df = stmts_df[['agA_name', 'agB_name', 'stmt_type', 'evidence_count']]\n",
    "# Remove self-edges\n",
    "stmts_df = stmts_df[stmts_df['agA_name'] != stmts_df['agB_name']]\n",
    "# Useful bits of Pandas to know, ultimately not used here:\n",
    "# pd.crosstab([foo['agA_name'], foo['agB_name']], foo['stmt_type'], foo['evidence_count'],\n",
    "#             aggfunc='sum', dropna=False).fillna(0)\n",
    "# baz = bar[bar.apply(lambda x: x.name[0] != x.name[1], axis=1)]"
   ]
  },
  {
   "cell_type": "code",
   "execution_count": 17,
   "metadata": {},
   "outputs": [],
   "source": [
    "x_dict = {}\n",
    "for row in stmts_df.values:\n",
    "    try:\n",
    "        raw_corr = dep_z[row[0]][row[1]]\n",
    "        \"\"\"\n",
    "        if int(raw_corr) == 0:\n",
    "            corr = 0\n",
    "        elif int(raw_corr) < 0:\n",
    "            corr = -1\n",
    "        elif int(raw_corr) > 0:\n",
    "            corr = 1\n",
    "        \"\"\"\n",
    "        corr = raw_corr\n",
    "    except KeyError:\n",
    "        continue\n",
    "    stmt_type = row[2]\n",
    "    gene_pair = (row[0], row[1])\n",
    "    if gene_pair not in x_dict:\n",
    "        x_dict[gene_pair] = {'Corr': corr}\n",
    "    x_dict[gene_pair][stmt_type] = row[3]\n",
    "features = ['Activation', 'Inhibition', 'Corr']\n",
    "all_data = np.zeros((len(x_dict), len(features)))\n",
    "for row_ix, feat_dict in enumerate(x_dict.values()):\n",
    "    for feat_name, feat_val in feat_dict.items():\n",
    "        if feat_name not in features:\n",
    "            continue\n",
    "        feat_ix = features.index(feat_name)\n",
    "        all_data[row_ix, feat_ix] = feat_val"
   ]
  },
  {
   "cell_type": "code",
   "execution_count": 18,
   "metadata": {},
   "outputs": [
    {
     "data": {
      "text/plain": [
       "'\\n# Shuffle the matrix in place\\nnp.random.shuffle(all_data)\\n# Balance the data\\nctr = Counter(all_data[:, -1])\\nclasses = sorted([(k, v) for k,  v in ctr.items()], key=lambda x: x[0])\\n# Get the class with the fewest members\\nmin_class_count = min([t[1] for t in classes])\\nmin_class_count\\ndata_bal = np.zeros((min_class_count * len(classes), len(features)))\\nrow_ix = 0\\nfor one_class, count in classes:\\n    num_class_rows = 0\\n    for ix in range(all_data.shape[0]):\\n        if all_data[ix, -1] == one_class:\\n            data_bal[row_ix] = all_data[ix,:]\\n            row_ix += 1\\n            num_class_rows += 1\\n        if num_class_rows >= min_class_count:\\n            print(\"Finished class %s, at rows %s\" % (one_class, row_ix))\\n            break\\n\\n'"
      ]
     },
     "execution_count": 18,
     "metadata": {},
     "output_type": "execute_result"
    }
   ],
   "source": [
    "\"\"\"\n",
    "# Shuffle the matrix in place\n",
    "np.random.shuffle(all_data)\n",
    "# Balance the data\n",
    "ctr = Counter(all_data[:, -1])\n",
    "classes = sorted([(k, v) for k,  v in ctr.items()], key=lambda x: x[0])\n",
    "# Get the class with the fewest members\n",
    "min_class_count = min([t[1] for t in classes])\n",
    "min_class_count\n",
    "data_bal = np.zeros((min_class_count * len(classes), len(features)))\n",
    "row_ix = 0\n",
    "for one_class, count in classes:\n",
    "    num_class_rows = 0\n",
    "    for ix in range(all_data.shape[0]):\n",
    "        if all_data[ix, -1] == one_class:\n",
    "            data_bal[row_ix] = all_data[ix,:]\n",
    "            row_ix += 1\n",
    "            num_class_rows += 1\n",
    "        if num_class_rows >= min_class_count:\n",
    "            print(\"Finished class %s, at rows %s\" % (one_class, row_ix))\n",
    "            break\n",
    "\n",
    "\"\"\""
   ]
  },
  {
   "cell_type": "code",
   "execution_count": 18,
   "metadata": {},
   "outputs": [],
   "source": [
    "# Divide training and test\n",
    "np.random.shuffle(all_data)\n",
    "partition_ix = int(len(all_data) * 0.8)\n",
    "train_data = all_data[0:partition_ix, :]\n",
    "test_data = all_data[partition_ix:, :]\n",
    "x_train = train_data[:,:-1]\n",
    "y_train = train_data[:, -1]\n",
    "x_test = test_data[:, :-1]\n",
    "y_test = test_data[:, -1]"
   ]
  },
  {
   "cell_type": "markdown",
   "metadata": {
    "heading_collapsed": true
   },
   "source": [
    "## Multinomial Naive Bayes"
   ]
  },
  {
   "cell_type": "code",
   "execution_count": 21,
   "metadata": {
    "hidden": true,
    "scrolled": true
   },
   "outputs": [
    {
     "ename": "ValueError",
     "evalue": "Unknown label type: (array([-0.05516979,  0.14065217, -1.34013057, ...,  0.64655844,\n        0.26385124, -0.2254322 ]),)",
     "output_type": "error",
     "traceback": [
      "\u001b[0;31m---------------------------------------------------------------------------\u001b[0m",
      "\u001b[0;31mValueError\u001b[0m                                Traceback (most recent call last)",
      "\u001b[0;32m<ipython-input-21-6f7bf3d4e66a>\u001b[0m in \u001b[0;36m<module>\u001b[0;34m\u001b[0m\n\u001b[1;32m      1\u001b[0m \u001b[0;32mfrom\u001b[0m \u001b[0msklearn\u001b[0m\u001b[0;34m.\u001b[0m\u001b[0mnaive_bayes\u001b[0m \u001b[0;32mimport\u001b[0m \u001b[0mMultinomialNB\u001b[0m\u001b[0;34m\u001b[0m\u001b[0;34m\u001b[0m\u001b[0m\n\u001b[1;32m      2\u001b[0m \u001b[0mnb\u001b[0m \u001b[0;34m=\u001b[0m \u001b[0mMultinomialNB\u001b[0m\u001b[0;34m(\u001b[0m\u001b[0;34m)\u001b[0m\u001b[0;34m\u001b[0m\u001b[0;34m\u001b[0m\u001b[0m\n\u001b[0;32m----> 3\u001b[0;31m \u001b[0mnb\u001b[0m\u001b[0;34m.\u001b[0m\u001b[0mfit\u001b[0m\u001b[0;34m(\u001b[0m\u001b[0mx_train\u001b[0m\u001b[0;34m,\u001b[0m \u001b[0my_train\u001b[0m\u001b[0;34m)\u001b[0m\u001b[0;34m\u001b[0m\u001b[0;34m\u001b[0m\u001b[0m\n\u001b[0m\u001b[1;32m      4\u001b[0m \u001b[0mnb\u001b[0m\u001b[0;34m.\u001b[0m\u001b[0mscore\u001b[0m\u001b[0;34m(\u001b[0m\u001b[0mx_test\u001b[0m\u001b[0;34m,\u001b[0m \u001b[0my_test\u001b[0m\u001b[0;34m)\u001b[0m\u001b[0;34m\u001b[0m\u001b[0;34m\u001b[0m\u001b[0m\n",
      "\u001b[0;32m~/.virtualenvs/p36env/lib/python3.6/site-packages/sklearn/naive_bayes.py\u001b[0m in \u001b[0;36mfit\u001b[0;34m(self, X, y, sample_weight)\u001b[0m\n\u001b[1;32m    587\u001b[0m \u001b[0;34m\u001b[0m\u001b[0m\n\u001b[1;32m    588\u001b[0m         \u001b[0mlabelbin\u001b[0m \u001b[0;34m=\u001b[0m \u001b[0mLabelBinarizer\u001b[0m\u001b[0;34m(\u001b[0m\u001b[0;34m)\u001b[0m\u001b[0;34m\u001b[0m\u001b[0;34m\u001b[0m\u001b[0m\n\u001b[0;32m--> 589\u001b[0;31m         \u001b[0mY\u001b[0m \u001b[0;34m=\u001b[0m \u001b[0mlabelbin\u001b[0m\u001b[0;34m.\u001b[0m\u001b[0mfit_transform\u001b[0m\u001b[0;34m(\u001b[0m\u001b[0my\u001b[0m\u001b[0;34m)\u001b[0m\u001b[0;34m\u001b[0m\u001b[0;34m\u001b[0m\u001b[0m\n\u001b[0m\u001b[1;32m    590\u001b[0m         \u001b[0mself\u001b[0m\u001b[0;34m.\u001b[0m\u001b[0mclasses_\u001b[0m \u001b[0;34m=\u001b[0m \u001b[0mlabelbin\u001b[0m\u001b[0;34m.\u001b[0m\u001b[0mclasses_\u001b[0m\u001b[0;34m\u001b[0m\u001b[0;34m\u001b[0m\u001b[0m\n\u001b[1;32m    591\u001b[0m         \u001b[0;32mif\u001b[0m \u001b[0mY\u001b[0m\u001b[0;34m.\u001b[0m\u001b[0mshape\u001b[0m\u001b[0;34m[\u001b[0m\u001b[0;36m1\u001b[0m\u001b[0;34m]\u001b[0m \u001b[0;34m==\u001b[0m \u001b[0;36m1\u001b[0m\u001b[0;34m:\u001b[0m\u001b[0;34m\u001b[0m\u001b[0;34m\u001b[0m\u001b[0m\n",
      "\u001b[0;32m~/.virtualenvs/p36env/lib/python3.6/site-packages/sklearn/preprocessing/label.py\u001b[0m in \u001b[0;36mfit_transform\u001b[0;34m(self, y)\u001b[0m\n\u001b[1;32m    434\u001b[0m             \u001b[0mShape\u001b[0m \u001b[0mwill\u001b[0m \u001b[0mbe\u001b[0m \u001b[0;34m[\u001b[0m\u001b[0mn_samples\u001b[0m\u001b[0;34m,\u001b[0m \u001b[0;36m1\u001b[0m\u001b[0;34m]\u001b[0m \u001b[0;32mfor\u001b[0m \u001b[0mbinary\u001b[0m \u001b[0mproblems\u001b[0m\u001b[0;34m.\u001b[0m\u001b[0;34m\u001b[0m\u001b[0;34m\u001b[0m\u001b[0m\n\u001b[1;32m    435\u001b[0m         \"\"\"\n\u001b[0;32m--> 436\u001b[0;31m         \u001b[0;32mreturn\u001b[0m \u001b[0mself\u001b[0m\u001b[0;34m.\u001b[0m\u001b[0mfit\u001b[0m\u001b[0;34m(\u001b[0m\u001b[0my\u001b[0m\u001b[0;34m)\u001b[0m\u001b[0;34m.\u001b[0m\u001b[0mtransform\u001b[0m\u001b[0;34m(\u001b[0m\u001b[0my\u001b[0m\u001b[0;34m)\u001b[0m\u001b[0;34m\u001b[0m\u001b[0;34m\u001b[0m\u001b[0m\n\u001b[0m\u001b[1;32m    437\u001b[0m \u001b[0;34m\u001b[0m\u001b[0m\n\u001b[1;32m    438\u001b[0m     \u001b[0;32mdef\u001b[0m \u001b[0mtransform\u001b[0m\u001b[0;34m(\u001b[0m\u001b[0mself\u001b[0m\u001b[0;34m,\u001b[0m \u001b[0my\u001b[0m\u001b[0;34m)\u001b[0m\u001b[0;34m:\u001b[0m\u001b[0;34m\u001b[0m\u001b[0;34m\u001b[0m\u001b[0m\n",
      "\u001b[0;32m~/.virtualenvs/p36env/lib/python3.6/site-packages/sklearn/preprocessing/label.py\u001b[0m in \u001b[0;36mfit\u001b[0;34m(self, y)\u001b[0m\n\u001b[1;32m    411\u001b[0m \u001b[0;34m\u001b[0m\u001b[0m\n\u001b[1;32m    412\u001b[0m         \u001b[0mself\u001b[0m\u001b[0;34m.\u001b[0m\u001b[0msparse_input_\u001b[0m \u001b[0;34m=\u001b[0m \u001b[0msp\u001b[0m\u001b[0;34m.\u001b[0m\u001b[0missparse\u001b[0m\u001b[0;34m(\u001b[0m\u001b[0my\u001b[0m\u001b[0;34m)\u001b[0m\u001b[0;34m\u001b[0m\u001b[0;34m\u001b[0m\u001b[0m\n\u001b[0;32m--> 413\u001b[0;31m         \u001b[0mself\u001b[0m\u001b[0;34m.\u001b[0m\u001b[0mclasses_\u001b[0m \u001b[0;34m=\u001b[0m \u001b[0munique_labels\u001b[0m\u001b[0;34m(\u001b[0m\u001b[0my\u001b[0m\u001b[0;34m)\u001b[0m\u001b[0;34m\u001b[0m\u001b[0;34m\u001b[0m\u001b[0m\n\u001b[0m\u001b[1;32m    414\u001b[0m         \u001b[0;32mreturn\u001b[0m \u001b[0mself\u001b[0m\u001b[0;34m\u001b[0m\u001b[0;34m\u001b[0m\u001b[0m\n\u001b[1;32m    415\u001b[0m \u001b[0;34m\u001b[0m\u001b[0m\n",
      "\u001b[0;32m~/.virtualenvs/p36env/lib/python3.6/site-packages/sklearn/utils/multiclass.py\u001b[0m in \u001b[0;36munique_labels\u001b[0;34m(*ys)\u001b[0m\n\u001b[1;32m     94\u001b[0m     \u001b[0m_unique_labels\u001b[0m \u001b[0;34m=\u001b[0m \u001b[0m_FN_UNIQUE_LABELS\u001b[0m\u001b[0;34m.\u001b[0m\u001b[0mget\u001b[0m\u001b[0;34m(\u001b[0m\u001b[0mlabel_type\u001b[0m\u001b[0;34m,\u001b[0m \u001b[0;32mNone\u001b[0m\u001b[0;34m)\u001b[0m\u001b[0;34m\u001b[0m\u001b[0;34m\u001b[0m\u001b[0m\n\u001b[1;32m     95\u001b[0m     \u001b[0;32mif\u001b[0m \u001b[0;32mnot\u001b[0m \u001b[0m_unique_labels\u001b[0m\u001b[0;34m:\u001b[0m\u001b[0;34m\u001b[0m\u001b[0;34m\u001b[0m\u001b[0m\n\u001b[0;32m---> 96\u001b[0;31m         \u001b[0;32mraise\u001b[0m \u001b[0mValueError\u001b[0m\u001b[0;34m(\u001b[0m\u001b[0;34m\"Unknown label type: %s\"\u001b[0m \u001b[0;34m%\u001b[0m \u001b[0mrepr\u001b[0m\u001b[0;34m(\u001b[0m\u001b[0mys\u001b[0m\u001b[0;34m)\u001b[0m\u001b[0;34m)\u001b[0m\u001b[0;34m\u001b[0m\u001b[0;34m\u001b[0m\u001b[0m\n\u001b[0m\u001b[1;32m     97\u001b[0m \u001b[0;34m\u001b[0m\u001b[0m\n\u001b[1;32m     98\u001b[0m     \u001b[0mys_labels\u001b[0m \u001b[0;34m=\u001b[0m \u001b[0mset\u001b[0m\u001b[0;34m(\u001b[0m\u001b[0mchain\u001b[0m\u001b[0;34m.\u001b[0m\u001b[0mfrom_iterable\u001b[0m\u001b[0;34m(\u001b[0m\u001b[0m_unique_labels\u001b[0m\u001b[0;34m(\u001b[0m\u001b[0my\u001b[0m\u001b[0;34m)\u001b[0m \u001b[0;32mfor\u001b[0m \u001b[0my\u001b[0m \u001b[0;32min\u001b[0m \u001b[0mys\u001b[0m\u001b[0;34m)\u001b[0m\u001b[0;34m)\u001b[0m\u001b[0;34m\u001b[0m\u001b[0;34m\u001b[0m\u001b[0m\n",
      "\u001b[0;31mValueError\u001b[0m: Unknown label type: (array([-0.05516979,  0.14065217, -1.34013057, ...,  0.64655844,\n        0.26385124, -0.2254322 ]),)"
     ]
    }
   ],
   "source": [
    "from sklearn.naive_bayes import MultinomialNB\n",
    "nb = MultinomialNB()\n",
    "nb.fit(x_train, y_train)\n",
    "nb.score(x_test, y_test)"
   ]
  },
  {
   "cell_type": "code",
   "execution_count": 212,
   "metadata": {
    "hidden": true
   },
   "outputs": [],
   "source": [
    "yctr = Counter(y_train)\n",
    "yclasses = sorted([(k, v) for k,  v in yctr.items()], key=lambda x: x[0])"
   ]
  },
  {
   "cell_type": "code",
   "execution_count": 213,
   "metadata": {
    "hidden": true
   },
   "outputs": [
    {
     "data": {
      "text/plain": [
       "[['Activation', 'Inhibition', 'Corr', 'Count'],\n",
       " (array([-0.4361943 , -1.03984945]), (-1.0, 34057)),\n",
       " (array([-0.33757549, -1.25001014]), (0.0, 445943)),\n",
       " (array([-0.34648099, -1.22817076]), (1.0, 49708))]"
      ]
     },
     "execution_count": 213,
     "metadata": {},
     "output_type": "execute_result"
    }
   ],
   "source": [
    "[features + ['Count']] + list(zip(nb.coef_, classes))"
   ]
  },
  {
   "cell_type": "markdown",
   "metadata": {},
   "source": [
    "## Linear Regression"
   ]
  },
  {
   "cell_type": "code",
   "execution_count": 66,
   "metadata": {},
   "outputs": [],
   "source": [
    "from sklearn.linear_model import LinearRegression\n",
    "from sklearn.metrics import explained_variance_score\n",
    "from sklearn.kernel_ridge import KernelRidge\n",
    "lr = LinearRegression()"
   ]
  },
  {
   "cell_type": "code",
   "execution_count": 59,
   "metadata": {},
   "outputs": [
    {
     "data": {
      "text/plain": [
       "array([ 0.00083149, -0.00308015])"
      ]
     },
     "execution_count": 59,
     "metadata": {},
     "output_type": "execute_result"
    }
   ],
   "source": [
    "lr.fit(x_train, y_train)\n",
    "lr.coef_"
   ]
  },
  {
   "cell_type": "code",
   "execution_count": 60,
   "metadata": {},
   "outputs": [
    {
     "data": {
      "text/plain": [
       "0.0005353616554718554"
      ]
     },
     "execution_count": 60,
     "metadata": {},
     "output_type": "execute_result"
    }
   ],
   "source": [
    "y_pred = lr.predict(x_train)\n",
    "explained_variance_score(y_train, y_pred)"
   ]
  },
  {
   "cell_type": "code",
   "execution_count": 64,
   "metadata": {},
   "outputs": [
    {
     "data": {
      "text/plain": [
       "0.0"
      ]
     },
     "execution_count": 64,
     "metadata": {},
     "output_type": "execute_result"
    }
   ],
   "source": [
    "y_mean = np.full(y_train.shape, y_train.mean())\n",
    "explained_variance_score(y_train, y_mean)"
   ]
  },
  {
   "cell_type": "code",
   "execution_count": 65,
   "metadata": {},
   "outputs": [
    {
     "data": {
      "text/plain": [
       "0.00023949117530219777"
      ]
     },
     "execution_count": 65,
     "metadata": {},
     "output_type": "execute_result"
    }
   ],
   "source": [
    "y_pred_test = lr.predict(x_test)\n",
    "explained_variance_score(y_test, y_pred_test)"
   ]
  },
  {
   "cell_type": "markdown",
   "metadata": {},
   "source": [
    "# Load INDRA Statements (deprecated)"
   ]
  },
  {
   "cell_type": "code",
   "execution_count": null,
   "metadata": {},
   "outputs": [],
   "source": [
    "reload = False\n",
    "if reload:\n",
    "    inc_stmts = ac.load_statements('increase_amt.pkl')\n",
    "    dec_stmts = ac.load_statements('decrease_amt.pkl')\n",
    "    stmts = inc_stmts + dec_stmts\n",
    "    stmts = ac.map_grounding(stmts)\n",
    "    stmts = [s for s in stmts if s.subj and s.subj.db_refs.get('HGNC')\n",
    "                             and s.obj and s.obj.db_refs.get('HGNC')]\n",
    "    stmts = ac.run_preassembly(stmts)\n",
    "    ac.dump_statements(stmts, 'assembled_stmts.pkl')\n",
    "else:\n",
    "    stmts = ac.load_statements('assembled_stmts.pkl')"
   ]
  },
  {
   "cell_type": "code",
   "execution_count": null,
   "metadata": {},
   "outputs": [],
   "source": [
    "stmts_by_obj = defaultdict(list)\n",
    "for s in stmts:\n",
    "    gene_id = s.obj.db_refs['HGNC']\n",
    "    gene_name = hgnc_client.get_hgnc_name(gene_id)\n",
    "    stmts_by_obj[gene_name].append(s)"
   ]
  },
  {
   "cell_type": "code",
   "execution_count": null,
   "metadata": {},
   "outputs": [],
   "source": [
    "stmt_counts = []\n",
    "for obj, stmts in stmts_by_obj.items():\n",
    "    stmt_counts.append((obj, len(stmts)))\n",
    "stmt_counts.sort(key=lambda x: x[1], reverse=True)"
   ]
  },
  {
   "cell_type": "code",
   "execution_count": null,
   "metadata": {},
   "outputs": [],
   "source": [
    "stmt_counts[0:10]"
   ]
  },
  {
   "cell_type": "code",
   "execution_count": null,
   "metadata": {},
   "outputs": [],
   "source": [
    "gene = 'BCL2'\n",
    "rank = 0\n",
    "stmts_by_obj[gene].sort(key=lambda s: s.belief, reverse=True)\n",
    "print(stmts_by_obj[gene][rank], '\\n')\n",
    "print('\\n'.join(['%d: %s\\n' % (i, str((e.source_api, e.text)))\n",
    "                 for i, e in enumerate(stmts_by_obj[gene][rank].evidence)]))"
   ]
  },
  {
   "cell_type": "code",
   "execution_count": null,
   "metadata": {},
   "outputs": [],
   "source": []
  },
  {
   "cell_type": "code",
   "execution_count": null,
   "metadata": {},
   "outputs": [],
   "source": []
  }
 ],
 "metadata": {
  "kernelspec": {
   "display_name": "Python 3",
   "language": "python",
   "name": "python3"
  },
  "language_info": {
   "codemirror_mode": {
    "name": "ipython",
    "version": 3
   },
   "file_extension": ".py",
   "mimetype": "text/x-python",
   "name": "python",
   "nbconvert_exporter": "python",
   "pygments_lexer": "ipython3",
   "version": "3.6.8"
  }
 },
 "nbformat": 4,
 "nbformat_minor": 2
}
