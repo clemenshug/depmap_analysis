{
 "cells": [
  {
   "cell_type": "code",
   "execution_count": 1,
   "metadata": {},
   "outputs": [],
   "source": [
    "import pickle\n",
    "import itertools\n",
    "from collections import Counter\n",
    "import numpy as np\n",
    "import networkx as nx\n",
    "from paths_graph import get_reachable_sets, PathsGraph\n",
    "from indra.databases import hgnc_client\n",
    "from indra.preassembler.hierarchy_manager import hierarchies\n",
    "from indra.sources.biogrid import BiogridProcessor"
   ]
  },
  {
   "cell_type": "code",
   "execution_count": 2,
   "metadata": {},
   "outputs": [
    {
     "name": "stdout",
     "output_type": "stream",
     "text": [
      "CPU times: user 43.2 s, sys: 5.05 s, total: 48.3 s\n",
      "Wall time: 48.5 s\n"
     ]
    }
   ],
   "source": [
    "with open('../indra_depmap_service/_cache/nx_bs_fam_dir_graph_db_refresh_20190702.pkl', 'rb') as f:\n",
    "    %time graph = pickle.load(f)"
   ]
  },
  {
   "cell_type": "code",
   "execution_count": 3,
   "metadata": {},
   "outputs": [
    {
     "name": "stderr",
     "output_type": "stream",
     "text": [
      "INFO: [2019-07-13 16:04:55] indra.sources.biogrid - No data file specified, downloading from BioGrid at https://downloads.thebiogrid.org/Download/BioGRID/Release-Archive/BIOGRID-3.4.158/BIOGRID-ALL-3.4.158.tab2.zip\n"
     ]
    }
   ],
   "source": [
    "bp = BiogridProcessor()"
   ]
  },
  {
   "cell_type": "markdown",
   "metadata": {},
   "source": [
    "## Preprocess Graph"
   ]
  },
  {
   "cell_type": "code",
   "execution_count": null,
   "metadata": {},
   "outputs": [],
   "source": [
    "# Add log weights for paths graph sampling\n",
    "for u, v, d in graph.edges(data=True):\n",
    "    belief = d['bs']\n",
    "    if belief == 1.0:\n",
    "        belief = 1 - 1e-15\n",
    "    pg_weight = -np.log(1 - belief)\n",
    "    d['pg_weight'] = pg_weight"
   ]
  },
  {
   "cell_type": "code",
   "execution_count": null,
   "metadata": {},
   "outputs": [],
   "source": [
    "# Get nodes involved in BioGrid Statements\n",
    "direct_pairs = set()\n",
    "for stmt in bp.statements:\n",
    "    members = stmt.members\n",
    "    if len(members) != 2:\n",
    "        print(\"More than 2 members!\")\n",
    "    direct_pairs.add((members[0].name, members[1].name))\n",
    "    direct_pairs.add((members[1].name, members[0].name))"
   ]
  },
  {
   "cell_type": "code",
   "execution_count": null,
   "metadata": {},
   "outputs": [],
   "source": [
    "# Create graph from filtered node and edge data\n",
    "direct_nodes = set()\n",
    "direct_edges = []\n",
    "\n",
    "def node_ns_id(node, g):\n",
    "    node_data = g.nodes[node]\n",
    "    return (node_data['ns'], node_data['id'])\n",
    "\n",
    "def get_node_children(node, g, entity_hierarchy):\n",
    "    node_ns, node_id = node_ns_id(node, g)\n",
    "    if node_ns != 'FPLX':\n",
    "        return []\n",
    "    children = []\n",
    "    for ch_uri in entity_hierarchy.get_children(entity_hierarchy.get_uri(node_ns, node_id)):\n",
    "        ch_ns, ch_id = entity_hierarchy.ns_id_from_uri(ch_uri)\n",
    "        if ch_ns == 'HGNC':\n",
    "            hgnc_name = hgnc_client.get_hgnc_name(ch_id)\n",
    "            children.append(hgnc_name)\n",
    "    return children\n",
    "            \n",
    "for u, v, d in graph.edges(data=True):\n",
    "    # Get any children of the nodes (in case a node is a family), and consider all\n",
    "    # edges among children/genes as an allowable direct edge\n",
    "    u_nodes = get_node_children(u, graph, hierarchies['entity'])\n",
    "    v_nodes = get_node_children(v, graph, hierarchies['entity'])\n",
    "    u_nodes.append(u)\n",
    "    v_nodes.append(v)\n",
    "    for u_i, v_i in itertools.product(u_nodes, v_nodes):\n",
    "        if (u_i, v_i) in direct_pairs:\n",
    "            direct_edges.append((u, v, d))\n",
    "            direct_nodes.add(u)\n",
    "            direct_nodes.add(v)\n",
    "            break\n",
    "        \n",
    "direct_graph = nx.DiGraph()\n",
    "direct_graph.add_nodes_from([(u, graph.nodes[u]) for u in direct_nodes])\n",
    "direct_graph.add_edges_from(direct_edges)"
   ]
  },
  {
   "cell_type": "markdown",
   "metadata": {},
   "source": [
    "## Pathfinding with path filtering to eliminate family cycles"
   ]
  },
  {
   "cell_type": "code",
   "execution_count": null,
   "metadata": {},
   "outputs": [],
   "source": [
    "# Path filtering\n",
    "\n",
    "def valid_path(path, source_graph, entity_hierarchy, is_pg=False):\n",
    "    # Assemble list of groundings and node component IDs\n",
    "    node_groundings = set()\n",
    "    components = set()\n",
    "    cycle = False\n",
    "    for node in path:\n",
    "        # If this is a node from a paths graph, get the node name\n",
    "        if is_pg:\n",
    "            node = node[1]\n",
    "        # Check for cycles involving groundings (nodes may not be in hierarchy)\n",
    "        node_ns, node_id = node_ns_id(node, source_graph)\n",
    "        if (node_ns, node_id) in node_groundings:\n",
    "            cycle = True\n",
    "            break\n",
    "        else:\n",
    "            node_groundings.add((node_ns, node_id))\n",
    "        # Also check for cycles involving components\n",
    "        node_uri = entity_hierarchy.get_uri(node_ns, node_id)\n",
    "        component_id = entity_hierarchy.components.get(node_uri)\n",
    "        if component_id is not None and component_id in components:\n",
    "            cycle = True\n",
    "            break\n",
    "        else:\n",
    "            components.add(component_id)\n",
    "    return True if not cycle else False\n",
    "\n",
    "# Shortest paths\n",
    "\n",
    "def shortest_paths(path_graph, source_graph, source, target, weight_key, num_paths, is_pg=False):\n",
    "    paths = []\n",
    "    for i, path in enumerate(nx.shortest_simple_paths(path_graph, source,\n",
    "                                                      target, weight=weight_key)):\n",
    "        if valid_path(path, source_graph, hierarchies['entity'], is_pg):\n",
    "            paths.append(path)\n",
    "            print(len(paths), path)\n",
    "        if len(paths) >= num_paths:\n",
    "            break\n",
    "    print(\"Filtered %d total paths to find %d valid ones\" % (i+1, num_paths))"
   ]
  },
  {
   "cell_type": "markdown",
   "metadata": {},
   "source": [
    "## Set source and target"
   ]
  },
  {
   "cell_type": "code",
   "execution_count": null,
   "metadata": {},
   "outputs": [],
   "source": [
    "source = 'SIK3'\n",
    "target = 'JUN'"
   ]
  },
  {
   "cell_type": "markdown",
   "metadata": {},
   "source": [
    "## Shortest paths (original graph)"
   ]
  },
  {
   "cell_type": "code",
   "execution_count": null,
   "metadata": {},
   "outputs": [],
   "source": [
    "num_paths = 30\n",
    "shortest_paths(direct_graph, direct_graph, source, target, 'weight', num_paths)"
   ]
  },
  {
   "cell_type": "markdown",
   "metadata": {},
   "source": [
    "## Prepare paths graphs"
   ]
  },
  {
   "cell_type": "code",
   "execution_count": null,
   "metadata": {},
   "outputs": [],
   "source": [
    "fwd_rs, back_rs = get_reachable_sets(direct_graph, source, target, max_depth=5,\n",
    "                                           signed=False)"
   ]
  },
  {
   "cell_type": "code",
   "execution_count": null,
   "metadata": {},
   "outputs": [],
   "source": [
    "length = 3"
   ]
  },
  {
   "cell_type": "code",
   "execution_count": null,
   "metadata": {},
   "outputs": [],
   "source": [
    "pg_samp = PathsGraph.from_graph(direct_graph, source, target, length,\n",
    "                          fwd_reachset=fwd_rs, back_reachset=back_rs, signed=False,\n",
    "                          weight_key='pg_weight')\n",
    "pg_short = PathsGraph.from_graph(direct_graph, source, target, length,\n",
    "                           fwd_reachset=fwd_rs, back_reachset=back_rs, signed=False,\n",
    "                           weight_key='weight')"
   ]
  },
  {
   "cell_type": "markdown",
   "metadata": {},
   "source": [
    "First let's use the paths graph to get the shortest simple paths, and filter out paths involving loops:"
   ]
  },
  {
   "cell_type": "code",
   "execution_count": null,
   "metadata": {},
   "outputs": [],
   "source": [
    "num_paths = 30\n",
    "\n",
    "# Loop over shortest paths, filtering out paths involving cycles or family cycles\n",
    "shortest_paths(pg_short.graph, direct_graph, pg_short.source_node, pg_short.target_node, 'weight', num_paths, is_pg=True)"
   ]
  },
  {
   "cell_type": "markdown",
   "metadata": {},
   "source": [
    "Now we run sampling, using the paths graph with the edge weights normalized accordingly:"
   ]
  },
  {
   "cell_type": "code",
   "execution_count": null,
   "metadata": {},
   "outputs": [],
   "source": [
    "num_samples = 10000\n",
    "paths = pg_samp.sample_cf_paths(num_samples)"
   ]
  },
  {
   "cell_type": "code",
   "execution_count": null,
   "metadata": {},
   "outputs": [],
   "source": [
    "ctr = Counter(paths)\n",
    "path_ctr = sorted([(k, v) for k, v in ctr.items()], key=lambda x: x[1], reverse=True)"
   ]
  },
  {
   "cell_type": "code",
   "execution_count": null,
   "metadata": {},
   "outputs": [],
   "source": [
    "path_ctr"
   ]
  },
  {
   "cell_type": "code",
   "execution_count": null,
   "metadata": {},
   "outputs": [],
   "source": [
    "def bel(s, t):\n",
    "    return graph[s][t]['bs']"
   ]
  },
  {
   "cell_type": "code",
   "execution_count": null,
   "metadata": {},
   "outputs": [],
   "source": [
    "bel('EGFR', 'mTORC2')"
   ]
  },
  {
   "cell_type": "code",
   "execution_count": null,
   "metadata": {},
   "outputs": [],
   "source": [
    "import networkx as nx"
   ]
  },
  {
   "cell_type": "code",
   "execution_count": null,
   "metadata": {},
   "outputs": [],
   "source": []
  },
  {
   "cell_type": "code",
   "execution_count": null,
   "metadata": {},
   "outputs": [],
   "source": [
    "pg.graph[(0, 'EGFR')][(1, 'AFAP1')]"
   ]
  },
  {
   "cell_type": "code",
   "execution_count": null,
   "metadata": {},
   "outputs": [],
   "source": []
  },
  {
   "cell_type": "code",
   "execution_count": null,
   "metadata": {},
   "outputs": [],
   "source": [
    "pg.enumerate_paths()"
   ]
  },
  {
   "cell_type": "code",
   "execution_count": null,
   "metadata": {
    "scrolled": true
   },
   "outputs": [],
   "source": [
    "pg.count_paths()"
   ]
  },
  {
   "cell_type": "code",
   "execution_count": null,
   "metadata": {},
   "outputs": [],
   "source": [
    "pg.count_cf_paths()"
   ]
  }
 ],
 "metadata": {
  "kernelspec": {
   "display_name": "Python 3",
   "language": "python",
   "name": "python3"
  },
  "language_info": {
   "codemirror_mode": {
    "name": "ipython",
    "version": 3
   },
   "file_extension": ".py",
   "mimetype": "text/x-python",
   "name": "python",
   "nbconvert_exporter": "python",
   "pygments_lexer": "ipython3",
   "version": "3.6.8"
  }
 },
 "nbformat": 4,
 "nbformat_minor": 2
}
