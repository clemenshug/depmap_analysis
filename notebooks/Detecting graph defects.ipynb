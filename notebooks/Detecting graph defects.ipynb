{
 "cells": [
  {
   "cell_type": "markdown",
   "metadata": {},
   "source": [
    "* Generate graph of true, direct causal connections\n",
    "* Add transitive edges with some probability\n",
    "* Add additional false positive edges\n",
    "* Train to predict either the errors, or the direct edges"
   ]
  },
  {
   "cell_type": "code",
   "execution_count": 1,
   "metadata": {},
   "outputs": [
    {
     "name": "stdout",
     "output_type": "stream",
     "text": [
      "\n",
      "WARNING: The TensorFlow contrib module will not be included in TensorFlow 2.0.\n",
      "For more information, please see:\n",
      "  * https://github.com/tensorflow/community/blob/master/rfcs/20180907-contrib-sunset.md\n",
      "  * https://github.com/tensorflow/addons\n",
      "If you depend on functionality not listed there, please file an issue.\n",
      "\n"
     ]
    }
   ],
   "source": [
    "import random\n",
    "import networkx as nx\n",
    "from matplotlib import pyplot as plt\n",
    "%matplotlib inline\n",
    "import numpy as np\n",
    "import tensorflow as tf\n",
    "from graph_nets.demos import models\n",
    "from graph_nets import utils_tf\n",
    "from scipy import spatial\n",
    "\n",
    "from IPython.core.debugger import set_trace"
   ]
  },
  {
   "cell_type": "code",
   "execution_count": 2,
   "metadata": {},
   "outputs": [],
   "source": [
    "seed = 2\n",
    "rand = np.random.RandomState(seed=seed)\n",
    "DISTANCE_WEIGHT_NAME = \"distance\"  # The name for the distance edge attribute."
   ]
  },
  {
   "cell_type": "markdown",
   "metadata": {},
   "source": [
    "## Create geographic threshold graph"
   ]
  },
  {
   "cell_type": "code",
   "execution_count": 3,
   "metadata": {},
   "outputs": [],
   "source": [
    "def generate_graph(rand,\n",
    "                   num_nodes_min_max,\n",
    "                   dimensions=2,\n",
    "                   theta=1000.0,\n",
    "                   rate=1.0):\n",
    "  \"\"\"Creates a connected graph.\n",
    "\n",
    "  The graphs are geographic threshold graphs, but with added edges via a\n",
    "  minimum spanning tree algorithm, to ensure all nodes are connected.\n",
    "\n",
    "  Args:\n",
    "    rand: A random seed for the graph generator. Default= None.\n",
    "    num_nodes_min_max: A sequence [lower, upper) number of nodes per graph.\n",
    "    dimensions: (optional) An `int` number of dimensions for the positions.\n",
    "      Default= 2.\n",
    "    theta: (optional) A `float` threshold parameters for the geographic\n",
    "      threshold graph's threshold. Large values (1000+) make mostly trees. Try\n",
    "      20-60 for good non-trees. Default=1000.0.\n",
    "    rate: (optional) A rate parameter for the node weight exponential sampling\n",
    "      distribution. Default= 1.0.\n",
    "\n",
    "  Returns:\n",
    "    The graph.\n",
    "  \"\"\"\n",
    "  # Sample num_nodes.\n",
    "  num_nodes = rand.randint(*num_nodes_min_max)\n",
    "\n",
    "  # Create geographic threshold graph.\n",
    "  pos_array = rand.uniform(size=(num_nodes, dimensions))\n",
    "  pos = dict(enumerate(pos_array))\n",
    "  weight = dict(enumerate(rand.exponential(rate, size=num_nodes)))\n",
    "  geo_graph = nx.geographical_threshold_graph(\n",
    "      num_nodes, theta, pos=pos, weight=weight)\n",
    "\n",
    "  # Create minimum spanning tree across geo_graph's nodes.\n",
    "  distances = spatial.distance.squareform(spatial.distance.pdist(pos_array))\n",
    "  i_, j_ = np.meshgrid(range(num_nodes), range(num_nodes), indexing=\"ij\")\n",
    "  weighted_edges = list(zip(i_.ravel(), j_.ravel(), distances.ravel()))\n",
    "  mst_graph = nx.Graph()\n",
    "  mst_graph.add_weighted_edges_from(weighted_edges, weight=DISTANCE_WEIGHT_NAME)\n",
    "  mst_graph = nx.minimum_spanning_tree(mst_graph, weight=DISTANCE_WEIGHT_NAME)\n",
    "  # Put geo_graph's node attributes into the mst_graph.\n",
    "  for i in mst_graph.nodes():\n",
    "    mst_graph.node[i].update(geo_graph.node[i])\n",
    "\n",
    "  # Compose the graphs.\n",
    "  combined_graph = nx.compose_all((mst_graph, geo_graph.copy()))\n",
    "  # Put all distance weights into edge attributes.\n",
    "  for i, j in combined_graph.edges():\n",
    "    combined_graph.get_edge_data(i, j).setdefault(DISTANCE_WEIGHT_NAME,\n",
    "                                                  distances[i, j])\n",
    "  return combined_graph, mst_graph, geo_graph"
   ]
  },
  {
   "cell_type": "markdown",
   "metadata": {},
   "source": [
    "## Create directed graphs with transitive edges and errors"
   ]
  },
  {
   "cell_type": "markdown",
   "metadata": {},
   "source": [
    "Each node and/or edges needs a \"features\" attribute that consists of a vector of floats--this is what is used by Graph Nets/Tensorflow in the fitting operation. In this case, the input graphs have no features; the output graph should have a feature consisting of a boolean variable identifying an edge as a false positive or not."
   ]
  },
  {
   "cell_type": "code",
   "execution_count": 4,
   "metadata": {},
   "outputs": [],
   "source": [
    "def get_transitive_edges(g):\n",
    "    t_edges = []\n",
    "    for u in g:\n",
    "        for v in g[u]:\n",
    "            for w in g[v]:\n",
    "                t_edges.append((u, w))\n",
    "    return t_edges\n",
    "\n",
    "def flip(p):\n",
    "    return True if random.random() < p else False\n",
    "\n",
    "def random_edges(g, p):\n",
    "    edges = []\n",
    "    for u in g:\n",
    "        for v in g:\n",
    "            if flip(p):\n",
    "                edges.append((u, v))\n",
    "    return edges\n",
    "\n",
    "def to_directed(g):\n",
    "    digraph = nx.DiGraph()\n",
    "    for u, v in g.edges():\n",
    "        edge = (u, v) if flip(0.5) else (v, u)\n",
    "        digraph.add_edge(edge[0], edge[1])\n",
    "    return digraph\n",
    "\n",
    "def error_graph(graph):\n",
    "    digraph = to_directed(graph)\n",
    "    #graph = add_shortest_path(rand, graph)\n",
    "    # TODO: Add transitive edges and error edges here TODO\n",
    "    t_edges = get_transitive_edges(digraph)\n",
    "    g_trans = nx.DiGraph(digraph)\n",
    "    g_trans.add_edges_from(t_edges)\n",
    "    nx.set_edge_attributes(g_trans, True, 'correct')\n",
    "    g_err = nx.DiGraph(g_trans)\n",
    "    err_edges = random_edges(g_trans, 0.01)\n",
    "    g_err.add_edges_from(err_edges, correct=False)\n",
    "    return g_err"
   ]
  },
  {
   "cell_type": "markdown",
   "metadata": {},
   "source": [
    "We can see now how a basic undirected geographic threshold graph is turned into a directed graph with transitive and erroneous edges. First, the underlying graph:"
   ]
  },
  {
   "cell_type": "code",
   "execution_count": 5,
   "metadata": {
    "scrolled": true
   },
   "outputs": [
    {
     "data": {
      "image/png": "[encoded data removed]",
      "text/plain": [
       "<Figure size 432x288 with 1 Axes>"
      ]
     },
     "metadata": {},
     "output_type": "display_data"
    }
   ],
   "source": [
    "cg, mstg, gg = generate_graph(rand, num_nodes_min_max=(20, 31), dimensions=4, theta=100.0, rate=1.0)\n",
    "nx.draw(cg)"
   ]
  },
  {
   "cell_type": "markdown",
   "metadata": {},
   "source": [
    "Now the \"error_graph\":"
   ]
  },
  {
   "cell_type": "code",
   "execution_count": 6,
   "metadata": {},
   "outputs": [
    {
     "data": {
      "image/png": "[encoded data removed]",
      "text/plain": [
       "<Figure size 432x288 with 1 Axes>"
      ]
     },
     "metadata": {},
     "output_type": "display_data"
    }
   ],
   "source": [
    "eg = error_graph(cg)\n",
    "nx.draw(eg)"
   ]
  },
  {
   "cell_type": "markdown",
   "metadata": {},
   "source": [
    "The number of edges in the graph that are false positives:"
   ]
  },
  {
   "cell_type": "code",
   "execution_count": 7,
   "metadata": {},
   "outputs": [
    {
     "name": "stdout",
     "output_type": "stream",
     "text": [
      "Total edges: 28\n",
      "Errors: 12\n"
     ]
    }
   ],
   "source": [
    "err_edges = [(u, v) for u, v, d in eg.edges(data=True) if not d['correct']]\n",
    "print(\"Total edges:\", len(eg))\n",
    "print(\"Errors:\", len(err_edges))"
   ]
  },
  {
   "cell_type": "markdown",
   "metadata": {},
   "source": [
    "## Convert edge attributes to feature vectors"
   ]
  },
  {
   "cell_type": "code",
   "execution_count": 8,
   "metadata": {},
   "outputs": [],
   "source": [
    "def to_one_hot(indices, max_value, axis=-1):\n",
    "  one_hot = np.eye(max_value)[indices]\n",
    "  if axis not in (-1, one_hot.ndim):\n",
    "    one_hot = np.moveaxis(one_hot, -1, axis)\n",
    "  return one_hot\n",
    "\n",
    "def graph_to_input_target(graph):\n",
    "  \"\"\"Returns 2 graphs with input and target feature vectors for training.\n",
    "\n",
    "  Args:\n",
    "    graph: An `nx.DiGraph` instance.\n",
    "\n",
    "  Returns:\n",
    "    The input `nx.DiGraph` instance.\n",
    "    The target `nx.DiGraph` instance.\n",
    "\n",
    "  Raises:\n",
    "    ValueError: unknown node type\n",
    "  \"\"\"\n",
    "\n",
    "  def create_feature(attr, fields):\n",
    "    if not fields:\n",
    "        return np.array([0.0])\n",
    "    return np.hstack([np.array(attr[field], dtype=float) for field in fields])\n",
    "\n",
    "  #input_node_fields = (\"pos\", \"weight\", \"start\", \"end\")\n",
    "  #input_edge_fields = (\"distance\",)\n",
    "  input_node_fields = []\n",
    "  input_edge_fields = []\n",
    "  target_node_fields = []\n",
    "  target_edge_fields = (\"correct\",)\n",
    "\n",
    "  input_graph = nx.DiGraph()\n",
    "  target_graph = nx.DiGraph()\n",
    "\n",
    "  for node_index, node_feature in graph.nodes(data=True):\n",
    "    input_graph.add_node(\n",
    "            node_index, features=create_feature(node_feature, input_node_fields))\n",
    "    target_node_feat = create_feature(node_feature, target_node_fields)\n",
    "    #if target_node_feat is not None:\n",
    "    #    target_node_feat = to_one_hot(target_node_feat.astype(int), 2)[0]\n",
    "    target_graph.add_node(node_index, features=target_node_feat)\n",
    "\n",
    "  for receiver, sender, features in graph.edges(data=True):\n",
    "    input_graph.add_edge(\n",
    "            sender, receiver, features=create_feature(features, input_edge_fields))\n",
    "    target_edge_feat = create_feature(features, target_edge_fields)\n",
    "    target_edge_feat = to_one_hot(target_edge_feat.astype(int), 2)[0]       \n",
    "    target_graph.add_edge(sender, receiver, features=target_edge_feat)\n",
    "\n",
    "  input_graph.graph[\"features\"] = np.array([0.0])\n",
    "  target_graph.graph[\"features\"] = np.array([0.0], dtype=float)\n",
    "\n",
    "  return input_graph, target_graph"
   ]
  },
  {
   "cell_type": "code",
   "execution_count": 9,
   "metadata": {},
   "outputs": [
    {
     "name": "stdout",
     "output_type": "stream",
     "text": [
      "Input graph nodes:\n",
      "[(0, {'features': array([0.])}), (1, {'features': array([0.])}), (2, {'features': array([0.])}), (3, {'features': array([0.])}), (4, {'features': array([0.])}), (5, {'features': array([0.])}), (6, {'features': array([0.])}), (7, {'features': array([0.])}), (8, {'features': array([0.])}), (9, {'features': array([0.])}), (10, {'features': array([0.])}), (11, {'features': array([0.])}), (12, {'features': array([0.])}), (13, {'features': array([0.])}), (14, {'features': array([0.])}), (15, {'features': array([0.])}), (16, {'features': array([0.])}), (17, {'features': array([0.])}), (18, {'features': array([0.])}), (19, {'features': array([0.])}), (20, {'features': array([0.])}), (21, {'features': array([0.])}), (22, {'features': array([0.])}), (23, {'features': array([0.])}), (24, {'features': array([0.])}), (25, {'features': array([0.])}), (26, {'features': array([0.])}), (27, {'features': array([0.])})]\n",
      "Target graph nodes:\n",
      "[(0, {'features': array([0.])}), (1, {'features': array([0.])}), (2, {'features': array([0.])}), (3, {'features': array([0.])}), (4, {'features': array([0.])}), (5, {'features': array([0.])}), (6, {'features': array([0.])}), (7, {'features': array([0.])}), (8, {'features': array([0.])}), (9, {'features': array([0.])}), (10, {'features': array([0.])}), (11, {'features': array([0.])}), (12, {'features': array([0.])}), (13, {'features': array([0.])}), (14, {'features': array([0.])}), (15, {'features': array([0.])}), (16, {'features': array([0.])}), (17, {'features': array([0.])}), (18, {'features': array([0.])}), (19, {'features': array([0.])}), (20, {'features': array([0.])}), (21, {'features': array([0.])}), (22, {'features': array([0.])}), (23, {'features': array([0.])}), (24, {'features': array([0.])}), (25, {'features': array([0.])}), (26, {'features': array([0.])}), (27, {'features': array([0.])})]\n",
      "Input graph edges:\n",
      "[(1, 20, {'features': array([0.])}), (2, 8, {'features': array([0.])}), (2, 12, {'features': array([0.])}), (2, 16, {'features': array([0.])}), (2, 17, {'features': array([0.])}), (2, 22, {'features': array([0.])}), (2, 27, {'features': array([0.])}), (3, 10, {'features': array([0.])}), (3, 17, {'features': array([0.])}), (3, 18, {'features': array([0.])}), (3, 27, {'features': array([0.])}), (4, 15, {'features': array([0.])}), (4, 22, {'features': array([0.])}), (6, 4, {'features': array([0.])}), (6, 25, {'features': array([0.])}), (6, 26, {'features': array([0.])}), (7, 5, {'features': array([0.])}), (7, 19, {'features': array([0.])}), (7, 25, {'features': array([0.])}), (9, 6, {'features': array([0.])}), (9, 13, {'features': array([0.])}), (9, 14, {'features': array([0.])}), (9, 20, {'features': array([0.])}), (10, 1, {'features': array([0.])}), (11, 4, {'features': array([0.])}), (11, 6, {'features': array([0.])}), (11, 25, {'features': array([0.])}), (11, 26, {'features': array([0.])}), (13, 4, {'features': array([0.])}), (13, 6, {'features': array([0.])}), (13, 7, {'features': array([0.])}), (13, 20, {'features': array([0.])}), (13, 25, {'features': array([0.])}), (13, 26, {'features': array([0.])}), (14, 0, {'features': array([0.])}), (14, 2, {'features': array([0.])}), (14, 8, {'features': array([0.])}), (14, 9, {'features': array([0.])}), (14, 12, {'features': array([0.])}), (14, 17, {'features': array([0.])}), (14, 22, {'features': array([0.])}), (15, 17, {'features': array([0.])}), (15, 21, {'features': array([0.])}), (15, 24, {'features': array([0.])}), (16, 13, {'features': array([0.])}), (17, 26, {'features': array([0.])}), (17, 27, {'features': array([0.])}), (18, 1, {'features': array([0.])}), (18, 10, {'features': array([0.])}), (19, 5, {'features': array([0.])}), (20, 27, {'features': array([0.])}), (21, 8, {'features': array([0.])}), (21, 13, {'features': array([0.])}), (21, 15, {'features': array([0.])}), (21, 23, {'features': array([0.])}), (22, 16, {'features': array([0.])}), (23, 6, {'features': array([0.])}), (23, 13, {'features': array([0.])}), (23, 15, {'features': array([0.])}), (23, 20, {'features': array([0.])}), (23, 24, {'features': array([0.])}), (24, 5, {'features': array([0.])})]\n",
      "\n",
      "Target graph edges:\n",
      "[(1, 20, {'features': array([1., 0.])}), (2, 8, {'features': array([0., 1.])}), (2, 12, {'features': array([0., 1.])}), (2, 16, {'features': array([0., 1.])}), (2, 17, {'features': array([0., 1.])}), (2, 22, {'features': array([0., 1.])}), (2, 27, {'features': array([0., 1.])}), (3, 10, {'features': array([0., 1.])}), (3, 17, {'features': array([0., 1.])}), (3, 18, {'features': array([0., 1.])}), (3, 27, {'features': array([0., 1.])}), (4, 15, {'features': array([1., 0.])}), (4, 22, {'features': array([1., 0.])}), (6, 4, {'features': array([0., 1.])}), (6, 25, {'features': array([0., 1.])}), (6, 26, {'features': array([0., 1.])}), (7, 5, {'features': array([0., 1.])}), (7, 19, {'features': array([0., 1.])}), (7, 25, {'features': array([0., 1.])}), (9, 6, {'features': array([0., 1.])}), (9, 13, {'features': array([0., 1.])}), (9, 14, {'features': array([1., 0.])}), (9, 20, {'features': array([0., 1.])}), (10, 1, {'features': array([0., 1.])}), (11, 4, {'features': array([0., 1.])}), (11, 6, {'features': array([0., 1.])}), (11, 25, {'features': array([0., 1.])}), (11, 26, {'features': array([0., 1.])}), (13, 4, {'features': array([0., 1.])}), (13, 6, {'features': array([0., 1.])}), (13, 7, {'features': array([1., 0.])}), (13, 20, {'features': array([0., 1.])}), (13, 25, {'features': array([0., 1.])}), (13, 26, {'features': array([0., 1.])}), (14, 0, {'features': array([0., 1.])}), (14, 2, {'features': array([0., 1.])}), (14, 8, {'features': array([0., 1.])}), (14, 9, {'features': array([1., 0.])}), (14, 12, {'features': array([0., 1.])}), (14, 17, {'features': array([0., 1.])}), (14, 22, {'features': array([0., 1.])}), (15, 17, {'features': array([1., 0.])}), (15, 21, {'features': array([1., 0.])}), (15, 24, {'features': array([0., 1.])}), (16, 13, {'features': array([1., 0.])}), (17, 26, {'features': array([1., 0.])}), (17, 27, {'features': array([0., 1.])}), (18, 1, {'features': array([0., 1.])}), (18, 10, {'features': array([0., 1.])}), (19, 5, {'features': array([0., 1.])}), (20, 27, {'features': array([1., 0.])}), (21, 8, {'features': array([0., 1.])}), (21, 13, {'features': array([0., 1.])}), (21, 15, {'features': array([0., 1.])}), (21, 23, {'features': array([0., 1.])}), (22, 16, {'features': array([0., 1.])}), (23, 6, {'features': array([0., 1.])}), (23, 13, {'features': array([0., 1.])}), (23, 15, {'features': array([0., 1.])}), (23, 20, {'features': array([0., 1.])}), (23, 24, {'features': array([0., 1.])}), (24, 5, {'features': array([1., 0.])})]\n"
     ]
    }
   ],
   "source": [
    "ig, tg = graph_to_input_target(eg)\n",
    "print(\"Input graph nodes:\")\n",
    "print(sorted(list(ig.nodes(data=True))))\n",
    "print(\"Target graph nodes:\")\n",
    "print(sorted(list(tg.nodes(data=True))))\n",
    "\n",
    "print(\"Input graph edges:\")\n",
    "print(sorted(list(ig.edges(data=True))))\n",
    "print()\n",
    "print(\"Target graph edges:\")\n",
    "print(sorted(list(tg.edges(data=True))))"
   ]
  },
  {
   "cell_type": "markdown",
   "metadata": {},
   "source": [
    "## Generate training set graphs"
   ]
  },
  {
   "cell_type": "code",
   "execution_count": 10,
   "metadata": {},
   "outputs": [],
   "source": [
    "def generate_networkx_graphs(rand, num_examples, num_nodes_min_max, theta):\n",
    "  \"\"\"Generate graphs for training.\n",
    "\n",
    "  Args:\n",
    "    rand: A random seed (np.RandomState instance).\n",
    "    num_examples: Total number of graphs to generate.\n",
    "    num_nodes_min_max: A 2-tuple with the [lower, upper) number of nodes per\n",
    "      graph. The number of nodes for a graph is uniformly sampled within this\n",
    "      range.\n",
    "    theta: (optional) A `float` threshold parameters for the geographic\n",
    "      threshold graph's threshold. Default= the number of nodes.\n",
    "\n",
    "  Returns:\n",
    "    input_graphs: The list of input graphs.\n",
    "    target_graphs: The list of output graphs.\n",
    "    graphs: The list of generated graphs.\n",
    "  \"\"\"\n",
    "  input_graphs = []\n",
    "  target_graphs = []\n",
    "  graphs = []\n",
    "    \n",
    "  for _ in range(num_examples):\n",
    "    base_graph = generate_graph(rand, num_nodes_min_max, dimensions=4)[0]\n",
    "    err_graph = error_graph(base_graph)\n",
    "    input_graph, target_graph = graph_to_input_target(err_graph)\n",
    "    input_graphs.append(input_graph)\n",
    "    target_graphs.append(target_graph)\n",
    "    graphs.append(err_graph)\n",
    "  return input_graphs, target_graphs, graphs\n",
    "\n",
    "def create_placeholders(rand, batch_size, num_nodes_min_max, theta):\n",
    "  \"\"\"Creates placeholders for the model training and evaluation.\n",
    "\n",
    "  Args:\n",
    "    rand: A random seed (np.RandomState instance).\n",
    "    batch_size: Total number of graphs per batch.\n",
    "    num_nodes_min_max: A 2-tuple with the [lower, upper) number of nodes per\n",
    "      graph. The number of nodes for a graph is uniformly sampled within this\n",
    "      range.\n",
    "    theta: A `float` threshold parameters for the geographic threshold graph's\n",
    "      threshold. Default= the number of nodes.\n",
    "\n",
    "  Returns:\n",
    "    input_ph: The input graph's placeholders, as a graph namedtuple.\n",
    "    target_ph: The target graph's placeholders, as a graph namedtuple.\n",
    "  \"\"\"\n",
    "  # Create some example data for inspecting the vector sizes.\n",
    "  input_graphs, target_graphs, _ = generate_networkx_graphs(\n",
    "      rand, batch_size, num_nodes_min_max, theta)\n",
    "  input_ph = utils_tf.placeholders_from_networkxs(input_graphs)\n",
    "  target_ph = utils_tf.placeholders_from_networkxs(target_graphs)\n",
    "  return input_ph, target_ph"
   ]
  },
  {
   "cell_type": "code",
   "execution_count": 11,
   "metadata": {},
   "outputs": [],
   "source": [
    "def create_loss_ops(target_op, output_ops):\n",
    "  loss_ops = [\n",
    "      tf.losses.softmax_cross_entropy(target_op.edges, output_op.edges)\n",
    "      for output_op in output_ops\n",
    "  ]\n",
    "  return loss_ops\n",
    "\n",
    "def make_all_runnable_in_session(*args):\n",
    "  \"\"\"Lets an iterable of TF graphs be output from a session as NP graphs.\"\"\"\n",
    "  return [utils_tf.make_runnable_in_session(a) for a in args]"
   ]
  },
  {
   "cell_type": "code",
   "execution_count": 12,
   "metadata": {},
   "outputs": [],
   "source": [
    "#@title Set up model training and evaluation  { form-width: \"30%\" }\n",
    "\n",
    "# The model we explore includes three components:\n",
    "# - An \"Encoder\" graph net, which independently encodes the edge, node, and\n",
    "#   global attributes (does not compute relations etc.).\n",
    "# - A \"Core\" graph net, which performs N rounds of processing (message-passing)\n",
    "#   steps. The input to the Core is the concatenation of the Encoder's output\n",
    "#   and the previous output of the Core (labeled \"Hidden(t)\" below, where \"t\" is\n",
    "#   the processing step).\n",
    "# - A \"Decoder\" graph net, which independently decodes the edge, node, and\n",
    "#   global attributes (does not compute relations etc.), on each\n",
    "#   message-passing step.\n",
    "#\n",
    "#                     Hidden(t)   Hidden(t+1)\n",
    "#                        |            ^\n",
    "#           *---------*  |  *------*  |  *---------*\n",
    "#           |         |  |  |      |  |  |         |\n",
    "# Input --->| Encoder |  *->| Core |--*->| Decoder |---> Output(t)\n",
    "#           |         |---->|      |     |         |\n",
    "#           *---------*     *------*     *---------*\n",
    "#\n",
    "# The model is trained by supervised learning. Input graphs are procedurally\n",
    "# generated, and output graphs have the same structure with the nodes and edges\n",
    "# of the shortest path labeled (using 2-element 1-hot vectors). We could have\n",
    "# predicted the shortest path only by labeling either the nodes or edges, and\n",
    "# that does work, but we decided to predict both to demonstrate the flexibility\n",
    "# of graph nets' outputs.\n",
    "#\n",
    "# The training loss is computed on the output of each processing step. The\n",
    "# reason for this is to encourage the model to try to solve the problem in as\n",
    "# few steps as possible. It also helps make the output of intermediate steps\n",
    "# more interpretable.\n",
    "#\n",
    "# There's no need for a separate evaluate dataset because the inputs are\n",
    "# never repeated, so the training loss is the measure of performance on graphs\n",
    "# from the input distribution.\n",
    "#\n",
    "# We also evaluate how well the models generalize to graphs which are up to\n",
    "# twice as large as those on which it was trained. The loss is computed only\n",
    "# on the final processing step.\n",
    "#\n",
    "# Variables with the suffix _tr are training parameters, and variables with the\n",
    "# suffix _ge are test/generalization parameters.\n",
    "#\n",
    "# After around 2000-5000 training iterations the model reaches near-perfect\n",
    "# performance on graphs with between 8-16 nodes.\n",
    "\n",
    "tf.reset_default_graph()\n",
    "\n",
    "seed = 2\n",
    "rand = np.random.RandomState(seed=seed)\n",
    "\n",
    "# Model parameters.\n",
    "# Number of processing (message-passing) steps.\n",
    "num_processing_steps_tr = 10\n",
    "num_processing_steps_ge = 10\n",
    "\n",
    "# Data / training parameters.\n",
    "num_training_iterations = 10000\n",
    "theta = 20  # Large values (1000+) make trees. Try 20-60 for good non-trees.\n",
    "batch_size_tr = 32\n",
    "batch_size_ge = 100\n",
    "# Number of nodes per graph sampled uniformly from this range.\n",
    "num_nodes_min_max_tr = (8, 17)\n",
    "num_nodes_min_max_ge = (16, 33)\n",
    "\n",
    "# Data.\n",
    "# Input and target placeholders.\n",
    "input_ph, target_ph = create_placeholders(rand, batch_size_tr,\n",
    "                                          num_nodes_min_max_tr, theta)\n",
    "\n"
   ]
  },
  {
   "cell_type": "code",
   "execution_count": 13,
   "metadata": {},
   "outputs": [
    {
     "name": "stdout",
     "output_type": "stream",
     "text": [
      "WARNING:tensorflow:From /Users/johnbachman/.virtualenvs/p36env/lib/python3.6/site-packages/tensorflow/python/framework/op_def_library.py:263: colocate_with (from tensorflow.python.framework.ops) is deprecated and will be removed in a future version.\n",
      "Instructions for updating:\n",
      "Colocations handled automatically by placer.\n"
     ]
    }
   ],
   "source": [
    "# Connect the data to the model.\n",
    "# Instantiate the model.\n",
    "model = models.EncodeProcessDecode(edge_output_size=2, node_output_size=1)\n",
    "# A list of outputs, one per processing step.\n",
    "output_ops_tr = model(input_ph, num_processing_steps_tr)\n",
    "output_ops_ge = model(input_ph, num_processing_steps_ge)\n"
   ]
  },
  {
   "cell_type": "code",
   "execution_count": null,
   "metadata": {},
   "outputs": [],
   "source": [
    "# Training loss.\n",
    "loss_ops_tr = create_loss_ops(target_ph, output_ops_tr)\n",
    "# Loss across processing steps.\n",
    "loss_op_tr = sum(loss_ops_tr) / num_processing_steps_tr\n",
    "# Test/generalization loss.\n",
    "loss_ops_ge = create_loss_ops(target_ph, output_ops_ge)\n",
    "loss_op_ge = loss_ops_ge[-1]  # Loss from final processing step.\n",
    "\n",
    "# Optimizer.\n",
    "learning_rate = 1e-3\n",
    "optimizer = tf.train.AdamOptimizer(learning_rate)\n",
    "step_op = optimizer.minimize(loss_op_tr)\n",
    "\n",
    "# Lets an iterable of TF graphs be output from a session as NP graphs.\n",
    "input_ph, target_ph = make_all_runnable_in_session(input_ph, target_ph)"
   ]
  },
  {
   "cell_type": "code",
   "execution_count": 14,
   "metadata": {},
   "outputs": [],
   "source": [
    "#@title Reset session  { form-width: \"30%\" }\n",
    "\n",
    "# This cell resets the Tensorflow session, but keeps the same computational\n",
    "# graph.\n",
    "\n",
    "try:\n",
    "  sess.close()\n",
    "except NameError:\n",
    "  pass\n",
    "sess = tf.Session()\n",
    "sess.run(tf.global_variables_initializer())\n",
    "\n",
    "last_iteration = 0\n",
    "logged_iterations = []\n",
    "losses_tr = []\n",
    "corrects_tr = []\n",
    "solveds_tr = []\n",
    "losses_ge = []\n",
    "corrects_ge = []\n",
    "solveds_ge = []"
   ]
  },
  {
   "cell_type": "code",
   "execution_count": null,
   "metadata": {},
   "outputs": [],
   "source": [
    "#@title Run training  { form-width: \"30%\" }\n",
    "\n",
    "# You can interrupt this cell's training loop at any time, and visualize the\n",
    "# intermediate results by running the next cell (below). You can then resume\n",
    "# training by simply executing this cell again.\n",
    "\n",
    "# How much time between logging and printing the current results.\n",
    "log_every_seconds = 20\n",
    "\n",
    "print(\"# (iteration number), T (elapsed seconds), \"\n",
    "      \"Ltr (training loss), Lge (test/generalization loss), \"\n",
    "      \"Ctr (training fraction nodes/edges labeled correctly), \"\n",
    "      \"Str (training fraction examples solved correctly), \"\n",
    "      \"Cge (test/generalization fraction nodes/edges labeled correctly), \"\n",
    "      \"Sge (test/generalization fraction examples solved correctly)\")\n",
    "\n",
    "start_time = time.time()\n",
    "last_log_time = start_time\n",
    "for iteration in range(last_iteration, num_training_iterations):\n",
    "  last_iteration = iteration\n",
    "  feed_dict, _ = create_feed_dict(rand, batch_size_tr, num_nodes_min_max_tr,\n",
    "                                  theta, input_ph, target_ph)\n",
    "  train_values = sess.run({\n",
    "      \"step\": step_op,\n",
    "      \"target\": target_ph,\n",
    "      \"loss\": loss_op_tr,\n",
    "      \"outputs\": output_ops_tr\n",
    "  },\n",
    "                          feed_dict=feed_dict)\n",
    "  the_time = time.time()\n",
    "  elapsed_since_last_log = the_time - last_log_time\n",
    "  if elapsed_since_last_log > log_every_seconds:\n",
    "    last_log_time = the_time\n",
    "    feed_dict, raw_graphs = create_feed_dict(\n",
    "        rand, batch_size_ge, num_nodes_min_max_ge, theta, input_ph, target_ph)\n",
    "    test_values = sess.run({\n",
    "        \"target\": target_ph,\n",
    "        \"loss\": loss_op_ge,\n",
    "        \"outputs\": output_ops_ge\n",
    "    },\n",
    "                           feed_dict=feed_dict)\n",
    "    correct_tr, solved_tr = compute_accuracy(\n",
    "        train_values[\"target\"], train_values[\"outputs\"][-1], use_edges=True)\n",
    "    correct_ge, solved_ge = compute_accuracy(\n",
    "        test_values[\"target\"], test_values[\"outputs\"][-1], use_edges=True)\n",
    "    elapsed = time.time() - start_time\n",
    "    losses_tr.append(train_values[\"loss\"])\n",
    "    corrects_tr.append(correct_tr)\n",
    "    solveds_tr.append(solved_tr)\n",
    "    losses_ge.append(test_values[\"loss\"])\n",
    "    corrects_ge.append(correct_ge)\n",
    "    solveds_ge.append(solved_ge)\n",
    "    logged_iterations.append(iteration)\n",
    "    print(\"# {:05d}, T {:.1f}, Ltr {:.4f}, Lge {:.4f}, Ctr {:.4f}, Str\"\n",
    "          \" {:.4f}, Cge {:.4f}, Sge {:.4f}\".format(\n",
    "              iteration, elapsed, train_values[\"loss\"], test_values[\"loss\"],\n",
    "              correct_tr, solved_tr, correct_ge, solved_ge))"
   ]
  }
 ],
 "metadata": {
  "kernelspec": {
   "display_name": "Python 3",
   "language": "python",
   "name": "python3"
  },
  "language_info": {
   "codemirror_mode": {
    "name": "ipython",
    "version": 3
   },
   "file_extension": ".py",
   "mimetype": "text/x-python",
   "name": "python",
   "nbconvert_exporter": "python",
   "pygments_lexer": "ipython3",
   "version": "3.6.2"
  }
 },
 "nbformat": 4,
 "nbformat_minor": 2
}
