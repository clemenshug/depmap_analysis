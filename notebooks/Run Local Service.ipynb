{
 "cells": [
  {
   "cell_type": "markdown",
   "source": [
    "The INDRA DepMap Service can be used to programmatically search for paths in \n",
    "the indra network.\n",
    "\n",
    "First, you need to start the server (assuming you have all \n",
    "[prerequisites](https://github.com/kkaris/depmap_analysis/blob/readme/doc/indra_depmap_service/depmap_service.rst)).\n",
    "\n",
    "Assuming you run the server with default parameters `python api.py`, you \n",
    "should have access to a POST endpoint on `http://localhost/query/submit`.\n",
    "\n",
    "Read about the available search options in the docstring of \n",
    "`IndraNetwork.handle_query()` in `depmap_analysis/indra_depmap_service/api.py`.\n",
    "\n",
    "Below we search for paths from `BRCA1` to `BRCA2` with a maximum path length \n",
    "of 4 edges (maximum allowed), `'CHEBI', 'FPLX', 'GO', 'HGNC', 'HMDB', \n",
    "'MESH'` and `'PUBCHEM'` as allowed node namespaces and `'activation', \n",
    "'increaseamount', 'phosphorylation'` as allowed statement types in the edges \n",
    "of the path.\n"
   ],
   "metadata": {
    "collapsed": false
   }
  },
  {
   "cell_type": "code",
   "execution_count": 4,
   "metadata": {
    "collapsed": true,
    "pycharm": {
     "name": "#%%\n",
     "is_executing": false
    }
   },
   "outputs": [
    {
     "name": "stdout",
     "text": [
      "{'result': {'paths_by_node_count': {'2': [{'stmts': [[{'weight': 0.05129395906250825, 'stmt_type': 'Activation', 'stmt_hash': '33146744689149547', 'evidence_count': 12, 'bs': 0.949999468559, 'subj': 'BRCA1', 'obj': 'BRCA2'}, {'weight': 0.4307830699386198, 'stmt_type': 'Activation', 'stmt_hash': '-14152233573679567', 'evidence_count': 1, 'bs': 0.65, 'subj': 'BRCA1', 'obj': 'BRCA2'}, {'weight': 0.4307830699386198, 'stmt_type': 'IncreaseAmount', 'stmt_hash': '30718941388306265', 'evidence_count': 1, 'bs': 0.65, 'subj': 'BRCA1', 'obj': 'BRCA2'}]], 'path': ['BRCA1', 'BRCA2']}], '3': [{'stmts': [[{'weight': 0.4307830699386198, 'stmt_type': 'Activation', 'stmt_hash': '6779917657033236', 'evidence_count': 1, 'bs': 0.65, 'subj': 'BRCA1', 'obj': 'Cyclin'}, {'weight': 0.051295264357911874, 'stmt_type': 'Activation', 'stmt_hash': '-20769781427904367', 'evidence_count': 6, 'bs': 0.94999822853, 'subj': 'BRCA1', 'obj': 'Cyclin'}, {'weight': 0.4307830699386198, 'stmt_type': 'Phosphorylation', 'stmt_hash': '29572953604636021', 'evidence_count': 1, 'bs': 0.65, 'subj': 'BRCA1', 'obj': 'Cyclin'}, {'weight': 0.016302262726565927, 'stmt_type': 'IncreaseAmount', 'stmt_hash': '-9558690834577969', 'evidence_count': 2, 'bs': 0.98383, 'subj': 'BRCA1', 'obj': 'Cyclin'}], [{'weight': 0.1508230060136601, 'stmt_type': 'IncreaseAmount', 'stmt_hash': '-869227889757510', 'evidence_count': 1, 'bs': 0.86, 'subj': 'Cyclin', 'obj': 'BRCA2'}, {'weight': 0.4307830699386198, 'stmt_type': 'Activation', 'stmt_hash': '-20200565590243375', 'evidence_count': 1, 'bs': 0.65, 'subj': 'Cyclin', 'obj': 'BRCA2'}, {'weight': 0.0108386262707474, 'stmt_type': 'Phosphorylation', 'stmt_hash': '-4156594691023554', 'evidence_count': 3, 'bs': 0.98922, 'subj': 'Cyclin', 'obj': 'BRCA2'}]], 'path': ['BRCA1', 'Cyclin', 'BRCA2']}, {'stmts': [[{'weight': 0.1508230060136601, 'stmt_type': 'Activation', 'stmt_hash': '-22469245424128493', 'evidence_count': 2, 'bs': 0.86, 'subj': 'BRCA1', 'obj': 'PTEN'}], [{'weight': 0.4307830699386198, 'stmt_type': 'Activation', 'stmt_hash': '23780459264015764', 'evidence_count': 1, 'bs': 0.65, 'subj': 'PTEN', 'obj': 'BRCA2'}]], 'path': ['BRCA1', 'PTEN', 'BRCA2']}]}, 'common_targets': [{'BRCA1': [[{'weight': 0.05129339965071396, 'stmt_type': 'Activation', 'stmt_hash': '28105866281905252', 'evidence_count': 28, 'bs': 0.95, 'subj': 'BRCA1', 'obj': 'BRCA1'}, {'weight': 0.051293401010084144, 'stmt_type': 'IncreaseAmount', 'stmt_hash': '-33750539861887060', 'evidence_count': 13, 'bs': 0.9499999987085984, 'subj': 'BRCA1', 'obj': 'BRCA1'}, {'weight': 0.08012615282165253, 'stmt_type': 'IncreaseAmount', 'stmt_hash': '8244323833839446', 'evidence_count': 3, 'bs': 0.923, 'subj': 'BRCA1', 'obj': 'BRCA1'}, {'weight': 0.1508230060136601, 'stmt_type': 'Activation', 'stmt_hash': '31370165811447172', 'evidence_count': 2, 'bs': 0.86, 'subj': 'BRCA1', 'obj': 'BRCA1'}, {'weight': 0.1508230060136601, 'stmt_type': 'Activation', 'stmt_hash': '3019438726359845', 'evidence_count': 2, 'bs': 0.86, 'subj': 'BRCA1', 'obj': 'BRCA1'}, {'weight': 0.4307830699386198, 'stmt_type': 'Activation', 'stmt_hash': '23688613280023705', 'evidence_count': 1, 'bs': 0.65, 'subj': 'BRCA1', 'obj': 'BRCA1'}, {'weight': 0.4307830699386198, 'stmt_type': 'Activation', 'stmt_hash': '-3739382798905346', 'evidence_count': 1, 'bs': 0.65, 'subj': 'BRCA1', 'obj': 'BRCA1'}, {'weight': 0.4307830699386198, 'stmt_type': 'IncreaseAmount', 'stmt_hash': '7205811150907560', 'evidence_count': 1, 'bs': 0.65, 'subj': 'BRCA1', 'obj': 'BRCA1'}, {'weight': 0.4307830699386198, 'stmt_type': 'Activation', 'stmt_hash': '25473625528394438', 'evidence_count': 1, 'bs': 0.65, 'subj': 'BRCA1', 'obj': 'BRCA1'}, {'weight': 0.4307830699386198, 'stmt_type': 'Phosphorylation', 'stmt_hash': '-17329181021319981', 'evidence_count': 1, 'bs': 0.65, 'subj': 'BRCA1', 'obj': 'BRCA1'}, {'weight': 0.4307830699386198, 'stmt_type': 'Phosphorylation', 'stmt_hash': '-4746247388566927', 'evidence_count': 1, 'bs': 0.65, 'subj': 'BRCA1', 'obj': 'BRCA1'}], [{'weight': 0.05206106273046052, 'stmt_type': 'Activation', 'stmt_hash': '-34031845405068381', 'evidence_count': 6, 'bs': 0.949271, 'subj': 'BRCA2', 'obj': 'BRCA1'}, {'weight': 0.4307830699386198, 'stmt_type': 'Activation', 'stmt_hash': '-6225955360211064', 'evidence_count': 1, 'bs': 0.65, 'subj': 'BRCA2', 'obj': 'BRCA1'}]], 'lowest_highest_belief': 0.949271}, {'PTEN': [[{'weight': 0.1508230060136601, 'stmt_type': 'Activation', 'stmt_hash': '-22469245424128493', 'evidence_count': 2, 'bs': 0.86, 'subj': 'BRCA1', 'obj': 'PTEN'}], [{'weight': 0.4307830699386198, 'stmt_type': 'Activation', 'stmt_hash': '8590259870289126', 'evidence_count': 1, 'bs': 0.65, 'subj': 'BRCA2', 'obj': 'PTEN'}]], 'lowest_highest_belief': 0.65}, {'CHEK2': [[{'weight': 0.059856273321754284, 'stmt_type': 'Activation', 'stmt_hash': '-11562554740536001', 'evidence_count': 4, 'bs': 0.9419, 'subj': 'BRCA1', 'obj': 'CHEK2'}, {'weight': 0.4307830699386198, 'stmt_type': 'Phosphorylation', 'stmt_hash': '26243318341080685', 'evidence_count': 1, 'bs': 0.65, 'subj': 'BRCA1', 'obj': 'CHEK2'}], [{'weight': 0.4307830699386198, 'stmt_type': 'Phosphorylation', 'stmt_hash': '-27937163501510681', 'evidence_count': 1, 'bs': 0.65, 'subj': 'BRCA2', 'obj': 'CHEK2'}, {'weight': 0.4307830699386198, 'stmt_type': 'Activation', 'stmt_hash': '-29353981920992589', 'evidence_count': 1, 'bs': 0.65, 'subj': 'BRCA2', 'obj': 'CHEK2'}]], 'lowest_highest_belief': 0.65}], 'common_parents': {'source_ns': 'HGNC', 'source_id': 'BRCA1', 'target_ns': 'HGNC', 'target_id': 'BRCA2', 'common_parents': ['http://identifiers.org/fplx/BRCA', 'http://identifiers.org/fplx/FANC']}}}\n"
     ],
     "output_type": "stream"
    }
   ],
   "source": [
    "import requests\n",
    " \n",
    "submit_url = 'http://localhost:5000/query/submit'\n",
    "source = 'BRCA1'\n",
    "target = 'BRCA2'\n",
    "search_options = {'source': source,\n",
    "                  'target': target,\n",
    "                  'bsco': 0,\n",
    "                  'fplx_expand': False,\n",
    "                  'k_shortest': 3,\n",
    "                  'weighted': False,\n",
    "                  'simple': True,\n",
    "                  'spec_len_only': False,\n",
    "                  'node_filter': ['CHEBI', 'FPLX', 'GO', 'HGNC', \n",
    "                                  'HMDB', 'MESH', 'PUBCHEM'],\n",
    "                  'path_length': 4,\n",
    "                  'stmt_filter': ['activation',\n",
    "                                  'increaseamount',\n",
    "                                  'phosphorylation']\n",
    "                 }\n",
    "\n",
    "path_results = requests.post(url=submit_url, json=search_options).json()\n",
    "print(path_results)\n",
    "\n"
   ]
  }
 ],
 "metadata": {
  "language_info": {
   "codemirror_mode": {
    "name": "ipython",
    "version": 2
   },
   "file_extension": ".py",
   "mimetype": "text/x-python",
   "name": "python",
   "nbconvert_exporter": "python",
   "pygments_lexer": "ipython2",
   "version": "2.7.6"
  },
  "kernelspec": {
   "name": "python3",
   "language": "python",
   "display_name": "Python 3"
  },
  "pycharm": {
   "stem_cell": {
    "cell_type": "raw",
    "source": [],
    "metadata": {
     "collapsed": false
    }
   }
  }
 },
 "nbformat": 4,
 "nbformat_minor": 0
}